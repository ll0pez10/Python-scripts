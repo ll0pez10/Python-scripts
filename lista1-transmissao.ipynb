{
 "cells": [
  {
   "cell_type": "markdown",
   "metadata": {},
   "source": [
    "<h1> 1 exercicio <h1/>"
   ]
  },
  {
   "cell_type": "code",
   "execution_count": 23,
   "metadata": {
    "scrolled": true
   },
   "outputs": [
    {
     "ename": "SyntaxError",
     "evalue": "invalid syntax (<ipython-input-23-1001fadf63b5>, line 110)",
     "output_type": "error",
     "traceback": [
      "\u001b[1;36m  File \u001b[1;32m\"<ipython-input-23-1001fadf63b5>\"\u001b[1;36m, line \u001b[1;32m110\u001b[0m\n\u001b[1;33m    if(i =< nc-npr):\u001b[0m\n\u001b[1;37m         ^\u001b[0m\n\u001b[1;31mSyntaxError\u001b[0m\u001b[1;31m:\u001b[0m invalid syntax\n"
     ]
    }
   ],
   "source": [
    "import cmath\n",
    "import numpy\n",
    "import math\n",
    "from cmath import phase \n",
    "import sympy as sym\n",
    "from numpy import exp, abs, angle, conjugate\n",
    "import numpy as np\n",
    "from scipy.constants import mu_0, epsilon_0\n",
    "from scipy.special import k1,k0,i1,i0\n",
    "from sympy import besseli, besselk, Matrix\n",
    "\n",
    "#dados gerador\n",
    "Sg = 250*10**6\n",
    "X = 8/100\n",
    "\n",
    "#dados transformador\n",
    "St = 250*10**6\n",
    "Z = 0.1\n",
    "\n",
    "#dados circuito\n",
    "l = 120*10**3\n",
    "V = 138*10**3\n",
    "\n",
    "#dados carga\n",
    "P = 40*10**3\n",
    "#cenario 1 (noite)\n",
    "Fp1 = (-1)*np.arccos(0.92)\n",
    "#cenario 2 (dia)\n",
    "Fp2 = np.arccos(0.92)\n",
    "\n",
    "#configuração da rede\n",
    "Rdcf = 0.17*10**(-3)\n",
    "Rdcpr = 0.17*10**(-3)\n",
    "rf = 18.29/(2*10**(-3))\n",
    "rpr = 4.57*10**(-3)\n",
    "xc = np.matrix('-3.8; 3.8; -3.8; 0')\n",
    "yc = np.matrix('15.033; 16.933; 18.833; 27.467')\n",
    "fl = np.matrix('9.25; 9.25; 9.25 ; 4.7')\n",
    "\n",
    "#altura mediy\n",
    "ycm = []\n",
    "for i in range(len(yc)):\n",
    "    ycm.append(yc[i] - (2/3)*fl[i])\n",
    "\n",
    "ncond = len(xc)\n",
    "nfases = 3\n",
    "npr =1 \n",
    "nc = ncond\n",
    "\n",
    "#impedancia base\n",
    "Zb = ((138*10**3)**2)/100*10**6\n",
    "\n",
    "\n",
    "#Circuito 138 kV (penguin)\n",
    "rf = 7.1501*10**(-3)\n",
    "rint = 2.3876*10**(-3)\n",
    "Rdc = 35.356020838304296*10**(-5)\n",
    "resist_c = Rdc* math.pi*(rf**2 - rint**2)\n",
    "\n",
    "#circuito 3/8 EHS (C.G.)\n",
    "rpr = 4.57*10**(-3)\n",
    "Rdcpr = 4.19*10**(-3)\n",
    "resist_pr = Rdcpr*math.pi*(rpr**2)\n",
    "\n",
    "\n",
    "#dados adicionais\n",
    "epsilon_r = 10\n",
    "sigma_s = 1*10**(-3)\n",
    "\n",
    "#frquencia\n",
    "f = 60\n",
    "\n",
    "#matrizes de sequencia\n",
    "a = complex(-0.5,0.866025)\n",
    "a2 = a**2\n",
    "A = Matrix([[1, 1, 1], [1, a2, a], [1, a, a2]])\n",
    "Zabc = z1*eye(3)\n",
    "Yabc = y1*eye(3)\n",
    "z012 = A**(-1)*Zabc*A\n",
    "y012 = A**(-1)*Yabc*A\n",
    "\n",
    "#calculo dos parametros\n",
    "omega = 2*math.pi*f\n",
    "gama_S = np.sqrt(1j*omega*mu_0*(sigma_s + 1j*omega*epsilon_r*epsilon_0))\n",
    "gama_ar = 1j*omega*np.sqrt(mu_0*epsilon_0)\n",
    "\n",
    "\n",
    "z1 = zin + (((1j*omega*mu_0)/2*math.pi) * (m + s1))\n",
    "y1 = 3*10**(-11)*eye(ncond) + 1j*omega*2*math.pi*epsilon_0*(m.inv())\n",
    "\n",
    "\n",
    "#funcoes para os calculos\n",
    "Rhoc,rint,rf, rpr,Rhopr = sym.symbols(\"Rhoc, rint,rf, rpr,Rhopr\")\n",
    "\n",
    "Etac = sym.sqrt((1j*mu_0*1*omega)/Rhoc)\n",
    "ri = rint + 10**(-6)\n",
    "Den = besseli(1,Etac*rf)*besselk(1,Etac*rf) - besselk(1,Etac*rf)*besseli(1,Etac*rf)\n",
    "Num = besselk(0,Etac*rf)*besseli(1,Etac*ri) + besseli(0,Etac*rf)*besselk(1,Etac*ri)\n",
    "zinttubo = Num*(Etac*Rhoc)/(Den*2*math.pi*rf)\n",
    "\n",
    "Etapr = sym.sqrt((1j*mu_0*80*omega)/Rhoc)\n",
    "zin = (Etapr*Rhopr)*besseli(0,Etapr*rpr)/(2*math.pi*rpr*besseli(1,Etapr*rpr))\n",
    "\n",
    "#faltando IMPORTANTE\n",
    "Mpot = []\n",
    "\n",
    "for i in range(nc):\n",
    "    for j in range(nc):\n",
    "        if(i != j):\n",
    "            if(i =< nc-npr):\n",
    "                pot = log((2*y[i])/rf)\n",
    "                pot = log((2*y[i])/rpr)\n",
    "            pot = 0.5*log((((x[i] - x[j])**2 + (y[i]+y[j])**2)**2)/((x[i] - x[j])**2 + (y[i] - y[j])**2))\n",
    "            Mpot.append(pot)\n",
    "            \n",
    "S1 = []\n",
    "eta = np.sqrt(gama_S**2 - gama_ar**2)\n",
    "\n",
    "for i in range(nc):\n",
    "    for j in range(nc):\n",
    "        if(i != j):\n",
    "            if(i =< nc-npr):\n",
    "                s = log((1+ 2/(eta*np.sqrt(4*y[i]**2 + rf**2))))\n",
    "                s = log((1+ 2/(eta*np.sqrt(4*y[i]**2 + rpr**2))))\n",
    "            s = 1 + 2/(eta*np.sqrt((x[i] - x[j])**2 + (y[i]+y[j])**2))\n",
    "            S1.append(s)\n",
    "\n",
    "#obtenção do quadripolo\n",
    "gama = np.sqrt(zpos*ypos)\n",
    "\n"
   ]
  },
  {
   "cell_type": "markdown",
   "metadata": {},
   "source": [
    "<h1> 2 exercicio <h1/>"
   ]
  },
  {
   "cell_type": "code",
   "execution_count": 21,
   "metadata": {},
   "outputs": [
    {
     "data": {
      "text/latex": [
       "$\\displaystyle \\left[\\begin{matrix}\\frac{Y_{6} Z_{6}}{2} + 1 & Z_{6}\\\\Y_{6} \\left(\\frac{Y_{6} Z_{6}}{4} + 1\\right) & \\frac{Y_{6} Z_{6}}{2} + 1\\end{matrix}\\right]$"
      ],
      "text/plain": [
       "Matrix([\n",
       "[     Y6*Z6/2 + 1,          Z6],\n",
       "[Y6*(Y6*Z6/4 + 1), Y6*Z6/2 + 1]])"
      ]
     },
     "execution_count": 21,
     "metadata": {},
     "output_type": "execute_result"
    }
   ],
   "source": [
    "from sympy import besseli, besselk, Matrix\n",
    "import sympy as sym\n",
    "import numpy as np\n",
    "#transposicao de fases\n",
    "Z6, Y6, Z3, Y3 = sym.symbols('Z6, Y6, Z3, Y3')\n",
    "\n",
    "R = np.matrix([[0., 1., 0.],[0., 0., 1.],[1., 0., 0.]])\n",
    "O = np.zeros((3, 3))\n",
    "F = Matrix([[R, O], [O, R]])\n",
    "\n",
    "Q1 = Matrix([[1+ (Z6*Y6)/2 , Z6],[Y6*(1 + (Z6*Y6)/4),(1+ (Z6*Y6)/2)]])\n",
    "Q2 = Matrix([[1+ (Z3*Y3)/2 , Z3],[Y3*(1 + (Z3*Y3)/4),(1+ (Z3*Y3)/2)]])\n",
    "\n",
    "LT = Q1*F*Q2*F*Q2*F*Q1\n",
    "\n",
    "Q1"
   ]
  },
  {
   "cell_type": "markdown",
   "metadata": {},
   "source": [
    "<h1> 3 exercicio <h1/>"
   ]
  },
  {
   "cell_type": "code",
   "execution_count": 33,
   "metadata": {},
   "outputs": [
    {
     "ename": "ValueError",
     "evalue": "shapes (3,3) and (1,0) not aligned: 3 (dim 1) != 1 (dim 0)",
     "output_type": "error",
     "traceback": [
      "\u001b[1;31m---------------------------------------------------------------------------\u001b[0m",
      "\u001b[1;31mValueError\u001b[0m                                Traceback (most recent call last)",
      "\u001b[1;32m<ipython-input-33-cf91a8f33f24>\u001b[0m in \u001b[0;36m<module>\u001b[1;34m\u001b[0m\n\u001b[0;32m     35\u001b[0m \u001b[0mZm\u001b[0m \u001b[1;33m=\u001b[0m \u001b[1;33m[\u001b[0m\u001b[1;33m]\u001b[0m\u001b[1;33m\u001b[0m\u001b[1;33m\u001b[0m\u001b[0m\n\u001b[0;32m     36\u001b[0m \u001b[1;33m\u001b[0m\u001b[0m\n\u001b[1;32m---> 37\u001b[1;33m \u001b[0mYMab0\u001b[0m \u001b[1;33m=\u001b[0m \u001b[0mTcl\u001b[0m\u001b[1;33m*\u001b[0m\u001b[0mYm\u001b[0m\u001b[1;33m*\u001b[0m\u001b[1;33m(\u001b[0m\u001b[0mTcl\u001b[0m\u001b[1;33m**\u001b[0m\u001b[1;33m-\u001b[0m\u001b[1;36m1\u001b[0m\u001b[1;33m)\u001b[0m\u001b[1;33m\u001b[0m\u001b[1;33m\u001b[0m\u001b[0m\n\u001b[0m\u001b[0;32m     38\u001b[0m \u001b[0mZMab0\u001b[0m \u001b[1;33m=\u001b[0m \u001b[0mTcl\u001b[0m\u001b[1;33m*\u001b[0m\u001b[0mYm\u001b[0m\u001b[1;33m*\u001b[0m\u001b[1;33m(\u001b[0m\u001b[0mTcl\u001b[0m\u001b[1;33m**\u001b[0m\u001b[1;33m-\u001b[0m\u001b[1;36m1\u001b[0m\u001b[1;33m)\u001b[0m\u001b[1;33m\u001b[0m\u001b[1;33m\u001b[0m\u001b[0m\n\u001b[0;32m     39\u001b[0m \u001b[1;33m\u001b[0m\u001b[0m\n",
      "\u001b[1;32m~\\anaconda3\\lib\\site-packages\\numpy\\matrixlib\\defmatrix.py\u001b[0m in \u001b[0;36m__mul__\u001b[1;34m(self, other)\u001b[0m\n\u001b[0;32m    218\u001b[0m         \u001b[1;32mif\u001b[0m \u001b[0misinstance\u001b[0m\u001b[1;33m(\u001b[0m\u001b[0mother\u001b[0m\u001b[1;33m,\u001b[0m \u001b[1;33m(\u001b[0m\u001b[0mN\u001b[0m\u001b[1;33m.\u001b[0m\u001b[0mndarray\u001b[0m\u001b[1;33m,\u001b[0m \u001b[0mlist\u001b[0m\u001b[1;33m,\u001b[0m \u001b[0mtuple\u001b[0m\u001b[1;33m)\u001b[0m\u001b[1;33m)\u001b[0m \u001b[1;33m:\u001b[0m\u001b[1;33m\u001b[0m\u001b[1;33m\u001b[0m\u001b[0m\n\u001b[0;32m    219\u001b[0m             \u001b[1;31m# This promotes 1-D vectors to row vectors\u001b[0m\u001b[1;33m\u001b[0m\u001b[1;33m\u001b[0m\u001b[1;33m\u001b[0m\u001b[0m\n\u001b[1;32m--> 220\u001b[1;33m             \u001b[1;32mreturn\u001b[0m \u001b[0mN\u001b[0m\u001b[1;33m.\u001b[0m\u001b[0mdot\u001b[0m\u001b[1;33m(\u001b[0m\u001b[0mself\u001b[0m\u001b[1;33m,\u001b[0m \u001b[0masmatrix\u001b[0m\u001b[1;33m(\u001b[0m\u001b[0mother\u001b[0m\u001b[1;33m)\u001b[0m\u001b[1;33m)\u001b[0m\u001b[1;33m\u001b[0m\u001b[1;33m\u001b[0m\u001b[0m\n\u001b[0m\u001b[0;32m    221\u001b[0m         \u001b[1;32mif\u001b[0m \u001b[0misscalar\u001b[0m\u001b[1;33m(\u001b[0m\u001b[0mother\u001b[0m\u001b[1;33m)\u001b[0m \u001b[1;32mor\u001b[0m \u001b[1;32mnot\u001b[0m \u001b[0mhasattr\u001b[0m\u001b[1;33m(\u001b[0m\u001b[0mother\u001b[0m\u001b[1;33m,\u001b[0m \u001b[1;34m'__rmul__'\u001b[0m\u001b[1;33m)\u001b[0m \u001b[1;33m:\u001b[0m\u001b[1;33m\u001b[0m\u001b[1;33m\u001b[0m\u001b[0m\n\u001b[0;32m    222\u001b[0m             \u001b[1;32mreturn\u001b[0m \u001b[0mN\u001b[0m\u001b[1;33m.\u001b[0m\u001b[0mdot\u001b[0m\u001b[1;33m(\u001b[0m\u001b[0mself\u001b[0m\u001b[1;33m,\u001b[0m \u001b[0mother\u001b[0m\u001b[1;33m)\u001b[0m\u001b[1;33m\u001b[0m\u001b[1;33m\u001b[0m\u001b[0m\n",
      "\u001b[1;32m<__array_function__ internals>\u001b[0m in \u001b[0;36mdot\u001b[1;34m(*args, **kwargs)\u001b[0m\n",
      "\u001b[1;31mValueError\u001b[0m: shapes (3,3) and (1,0) not aligned: 3 (dim 1) != 1 (dim 0)"
     ]
    }
   ],
   "source": [
    "import cmath\n",
    "import numpy\n",
    "import math\n",
    "from cmath import phase \n",
    "import sympy as sym\n",
    "from numpy import exp, abs, angle, conjugate\n",
    "import numpy as np\n",
    "from scipy.constants import mu_0, epsilon_0\n",
    "from scipy.special import k1,k0,i1,i0\n",
    "from sympy import besseli, besselk, Matrix\n",
    "\n",
    "#caso 1 \n",
    "P1 = 60*10**6\n",
    "\n",
    "P2 = 80*10**6\n",
    "\n",
    "#circuito 3/8 EHS (C.G.)\n",
    "rpr = 4.57*10**(-3)\n",
    "Rdcpr = 4.19*10**(-3)\n",
    "resist_pr = Rdcpr*math.pi*(rpr**2)\n",
    "\n",
    "#circuito (Dove)\n",
    "rint = 6,988 * 10**(-3)\n",
    "rext = 11.773* 10**(-3)\n",
    "resist = 29.567*10**(-9)\n",
    "\n",
    "xc = np.matrix('-3.4; 3.4; -3.4; 3.4; 3.4; 3.4; 0') \n",
    "yc = np.matrix('12.3333; 16.3333; 20.3333; 12.3333; 16.3333; 20.3333; 30.7667') \n",
    "\n",
    "Tcl = np.matrix([[-1/np.sqrt(6), 2/np.sqrt(6), -1/np.sqrt(6)],[1/np.sqrt(2), 0., -1./np.sqrt(2)],[1./np.sqrt(3), 1/np.sqrt(3), 1/np.sqrt(3)]])\n",
    "Tcl**-1\n",
    "\n",
    "\n",
    "Ym = []\n",
    "Zm = []\n",
    "\n",
    "YMab0 = Tcl*Ym*(Tcl**-1)\n",
    "ZMab0 = Tcl*Ym*(Tcl**-1)\n",
    "\n",
    "Ymd = np.matrix([[YMab0, 0],[0, YMab0]])\n",
    "Zmd = np.matrix([[ZMab0, 0],[0, ZMab0]])"
   ]
  }
 ],
 "metadata": {
  "kernelspec": {
   "display_name": "Python 3",
   "language": "python",
   "name": "python3"
  },
  "language_info": {
   "codemirror_mode": {
    "name": "ipython",
    "version": 3
   },
   "file_extension": ".py",
   "mimetype": "text/x-python",
   "name": "python",
   "nbconvert_exporter": "python",
   "pygments_lexer": "ipython3",
   "version": "3.7.6"
  }
 },
 "nbformat": 4,
 "nbformat_minor": 4
}
