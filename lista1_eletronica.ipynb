{
 "cells": [
  {
   "cell_type": "code",
   "execution_count": 27,
   "metadata": {},
   "outputs": [
    {
     "name": "stdout",
     "output_type": "stream",
     "text": [
      "segunda questão da lista\n",
      "0.0046500000000000005\n",
      "0.00285481727574751\n",
      "0.00755524214157935\n",
      "1.43554817275748\n",
      "-3.18030603117812\n",
      "3.56432009448070\n",
      "0.00748043776393995\n",
      "{Vc1: 0.735548172757475, Ic1: 0.00460396039603960, Ib2: 2.82655175816585e-5, Ic2: 0.00282655175816585, Ib3: 7.48043776393995e-5, Ib1: 4.60396039603960e-5, Vc2: -1.74475785842065, Vc3: 2.51956223606005}\n"
     ]
    }
   ],
   "source": [
    "import sympy as sym\n",
    "\n",
    "print(\"segunda questão da lista\")\n",
    "Vc1,Ve1,Ie1,Ib1,Ic1,I,Ve2,Ic2,Ie2,Vc2,Ib2,Vb1,Ie3,Ic3,Ib3,Vb3,Ve3,Vc3 = sym.symbols('Vc1,Ve1,Ie1,Ib1,Ic1,I,Ve2,Ic2,Ie2,Vc2,Ib2,Vb1,Ie3,Ic3,Ib3,Vb3,Ve3,Vc3')\n",
    "\n",
    "\n",
    "equacoes = []\n",
    "#correntes no de acoplamento s1\n",
    "equacoes.append(-((10-Vc1)/2000) + Ic1 + Ib2)\n",
    "#correntes no de acoplamento 2\n",
    "equacoes.append(-Ic2 + (Vc2 + 10)/3000 + Ib3)\n",
    "#equacoes primeiro transistor\n",
    "equacoes.append(9.3/2000 - Ib1*101)\n",
    "equacoes.append(Ib1*100 - Ic1)\n",
    "#equacoes segundo transistor\n",
    "equacoes.append((10 - (0.7+Vc1))/3000 - 101*Ib2)\n",
    "equacoes.append(Ic2 - 100*Ib2)\n",
    "#equacoes terceiro transistor\n",
    "equacoes.append((Vc2- 0.7 + 10)/1000 - 101*Ib3)\n",
    "equacoes.append(100*Ib3 - (10-Vc3)/1000)\n",
    "\n",
    "incognitas = [Vc1, Ic1, Ib2, Ic2, Ib3, Ib1, Vc2, Ib3, Vc3]\n",
    "\n",
    "solucao = sym.solve(equacoes,incognitas)\n",
    "\n",
    "Ie1 = (10 - 0.7)/2000\n",
    "Vce1 = solucao[Vc1] - (-0.7)\n",
    "Ie2 = (10 - (0.7 + solucao[Vc1]))/3000\n",
    "Vce2 = solucao[Vc2] - (0.7 + solucao[Vc1])\n",
    "Ie3 = 101*solucao[Ib3]\n",
    "Vce3 = solucao[Vc3] - (solucao[Vc2] + 0.7)\n",
    "Ic3 = 100*solucao[Ib3]\n",
    "print(Ie1)\n",
    "print(Ie2)\n",
    "print(Ie3)\n",
    "print(Vce1)\n",
    "print(Vce2)\n",
    "print(Vce3)\n",
    "print(Ic3)\n",
    "print(solucao)\n"
   ]
  },
  {
   "cell_type": "code",
   "execution_count": 8,
   "metadata": {},
   "outputs": [
    {
     "name": "stdout",
     "output_type": "stream",
     "text": [
      "primeira questão da lista\n",
      "0.00137930553200076\n",
      "0.00173216736251003\n",
      "0.00171501719060399\n",
      "3.80509266912654\n",
      "-3.46425025583743\n",
      "{Vc1: -1.85168034120688, Ic1: 0.000912569914630555, Vb1: 0.912569914630555, Ib2: 1.71501719060399e-5, Vc2: 1.25341232791966}\n"
     ]
    }
   ],
   "source": [
    "import sympy as sym\n",
    "\n",
    "print(\"primeira questão da lista\")\n",
    "Vc1,Ve1,Ie1,Ib1,Ic1,I,Ve2,Ic2,Ie2,Vc2,Ib2,Vb1 = sym.symbols('Vc1,Ve1,Ie1,Ib1,Ic1,I,Ve2,Ic2,Ie2,Vc2,Ib2,Vb1')\n",
    "\n",
    "equacoes = []\n",
    "#correntes no de acoplamento\n",
    "equacoes.append((Vc1 + 10)/9100 + ((Vc1-0.7+10)/4300)/101 - Ic1)\n",
    "\n",
    "#equacoes primeiro transistor\n",
    "equacoes.append((10-0.7-Vb1)/9100 - (Vb1/100000)*101)\n",
    "equacoes.append(Ic1-100*(Vb1/100000))\n",
    "\n",
    "#equacoes segundo transistor\n",
    "equacoes.append((Vc1-0.7 + 10)/4300 - Ib2*101)\n",
    "equacoes.append((10-Vc2)/5100 - 100*(((Vc1-0.7+10)/4300)/101))\n",
    "\n",
    "incognitas =[Vc1, Ic1, Vb1, Ib2, Vc2]\n",
    "\n",
    "solucao = sym.solve(equacoes,incognitas)\n",
    "\n",
    "Ie1 = (10 - (solucao[Vc1] - 0.7))/9100\n",
    "Ie2 = (solucao[Vc1]-0.7+10)/4300\n",
    "Ic2 = (10 - solucao[Vc2])/5100\n",
    "Vce2 = solucao[Vc2] - (solucao[Vc1] - 0.7)\n",
    "Vce1 = solucao[Vc1] - (0.7 + solucao[Vb1])\n",
    "print(Ie1)\n",
    "print(Ie2)\n",
    "print(Ic2)\n",
    "print(Vce2)\n",
    "print(Vce1)\n",
    "print(solucao)"
   ]
  },
  {
   "cell_type": "code",
   "execution_count": 25,
   "metadata": {
    "scrolled": false
   },
   "outputs": [
    {
     "name": "stdout",
     "output_type": "stream",
     "text": [
      "terceira questão da lista\n",
      "0.0205682707613822\n",
      "2.99644420197029\n",
      "-4.91574541175076\n",
      "{Ib1: 8.24767292906910e-6, Vb1: 2.54672872189149, Ib2: 0.000203646245162200, Ic1: 0.000824767292906910, Vb2: 6.24317292386178, Vc2: 2.02742751211102, Ie1: 0.000833014965835979, Ic2: 0.0203646245162200}\n"
     ]
    }
   ],
   "source": [
    "import sympy as sym\n",
    "\n",
    "print(\"terceira questão da lista\")\n",
    "Vc1,Ve1,Ie1,Ib1,Ic1,I,Ve2,Ic2,Ie2,Vc2,Ib2,Vb1,I_,Vb2 = sym.symbols('Vc1,Ve1,Ie1,Ib1,Ic1,I,Ve2,Ic2,Ie2,Vc2,Ib2,Vb1,I_,Vb2')\n",
    "\n",
    "equacoes = []\n",
    "#ramo 1 \n",
    "equacoes.append(Ib1 + Vb1/40000 - ((9 - Vb1 - 0.7)/80000))\n",
    "#ramo 2 \n",
    "equacoes.append(Ib2 + Ic1 - ((9- 0.7 - Vb2)/2000))\n",
    "equacoes.append((Vb1-0.7-Vc2)/2000 + (Vb1-0.7)/2000 - Ie1)\n",
    "#primeiro transistor\n",
    "equacoes.append(Ib1*101 - Ie1)\n",
    "equacoes.append(100*Ib1 - Ic1)\n",
    "#ramo 3\n",
    "equacoes.append(Vc2/100 - (Vb1-0.7-Vc2)/2000 - Ic2)\n",
    "#segundo transistor\n",
    "equacoes.append((9 - (0.7+Vb2))/100  - 101*Ib2)\n",
    "equacoes.append(100*Ib2 - Ic2)\n",
    "\n",
    "incognitas = [Ib1, Vb1, Ib2, Ic1, Vb2, Vc2, Ie1, Ic2]\n",
    "\n",
    "solucao = sym.solve(equacoes,incognitas)\n",
    "\n",
    "Ie2 = 101*solucao[Ib2]\n",
    "Vce1 = solucao[Vb2] - (solucao[Vb1]+ 0.7)\n",
    "Vce2 = solucao[Vc2] - (0.7 + solucao[Vb2])\n",
    "print(Ie2)\n",
    "print(Vce1)\n",
    "print(Vce2)\n",
    "print(solucao)\n"
   ]
  }
 ],
 "metadata": {
  "kernelspec": {
   "display_name": "Python 3",
   "language": "python",
   "name": "python3"
  },
  "language_info": {
   "codemirror_mode": {
    "name": "ipython",
    "version": 3
   },
   "file_extension": ".py",
   "mimetype": "text/x-python",
   "name": "python",
   "nbconvert_exporter": "python",
   "pygments_lexer": "ipython3",
   "version": "3.7.6"
  }
 },
 "nbformat": 4,
 "nbformat_minor": 4
}
