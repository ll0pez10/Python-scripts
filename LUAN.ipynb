{
 "cells": [
  {
   "cell_type": "markdown",
   "metadata": {},
   "source": [
    "<h1> 1 exercicio <h1/>"
   ]
  },
  {
   "cell_type": "code",
   "execution_count": 5,
   "metadata": {},
   "outputs": [],
   "source": [
    "import cmath\n",
    "import numpy\n",
    "import math\n",
    "from cmath import phase \n",
    "import sympy as sym\n",
    "from numpy import exp, abs, angle, conjugate\n",
    "import numpy as np\n",
    "from scipy.constants import mu_0, epsilon_0\n",
    "from scipy.special import k1,k0,i1,i0\n",
    "from mpmath import *\n",
    "mp.dps = 25; mp.pretty = True\n",
    "\n",
    "\n",
    "\n",
    "#dados gerador\n",
    "Sg = 250*10**6\n",
    "X = 8/100\n",
    "\n",
    "#dados transformador\n",
    "St = 250*10**6\n",
    "Z = 0.1\n",
    "\n",
    "#dados circuito\n",
    "l = 120*10**3\n",
    "V = 138*10**3\n",
    "\n",
    "#dados carga\n",
    "P = 40*10**3\n",
    "#cenario 1 (noite)\n",
    "Fp1 = (-1)*np.arccos(0.92)\n",
    "#cenario 2 (dia)\n",
    "Fp2 = np.arccos(0.92)\n",
    "\n",
    "#configuração da rede\n",
    "Rdcf = 0.17*10**(-3)\n",
    "Rdcpr = 0.17*10**(-3)\n",
    "rf = 18.29/(2*10**(-3))\n",
    "rpr = 4.57*10**(-3)\n",
    "xc = (-3.8, 3.8, -3.8, 0)\n",
    "yc = (15.033, 16.933, 18.833, 27.467)\n",
    "fl = (9.25, 9.25, 9.25 , 4.7)\n",
    "\n",
    "#altura mediy\n",
    "ycm = []\n",
    "for i in range(len(yc)):\n",
    "    ycm.append(yc[i] - (2/3)*fl[i])\n",
    "\n",
    "ncond = len(xc)\n",
    "nfases = 3\n",
    "npr =1 \n",
    "nc = ncond\n",
    "\n",
    "#impedancia base\n",
    "Zb = ((138*10**3)**2)/100*10**6\n",
    "\n",
    "\n",
    "#Circuito 138 kV (penguin)\n",
    "rf = 7.1501*10**(-3)\n",
    "rint = 2.3876*10**(-3)\n",
    "Rdc = 35.356020838304296*10**(-5)\n",
    "rhoc = Rdc* math.pi*(rf**2 - rint**2)\n",
    "\n",
    "#circuito 3/8 EHS (C.G.)\n",
    "rpr = 4.57*10**(-3)\n",
    "Rdcpr = 4.19*10**(-3)\n",
    "resist_pr = Rdcpr*math.pi*(rpr**2)\n",
    "\n",
    "\n",
    "#dados adicionais\n",
    "epsilon_r = 10\n",
    "sigma_s = 1*10**(-3)\n",
    "mu_0 = 4*math.pi*10**-7\n",
    "epsilon = 8.854*10**-12\n",
    "\n",
    "#frquencia\n",
    "f = 60"
   ]
  },
  {
   "cell_type": "code",
   "execution_count": 6,
   "metadata": {},
   "outputs": [
    {
     "ename": "NameError",
     "evalue": "name 'gama_S' is not defined",
     "output_type": "error",
     "traceback": [
      "\u001b[1;31m---------------------------------------------------------------------------\u001b[0m",
      "\u001b[1;31mNameError\u001b[0m                                 Traceback (most recent call last)",
      "\u001b[1;32m<ipython-input-6-006bd9f8209c>\u001b[0m in \u001b[0;36m<module>\u001b[1;34m\u001b[0m\n\u001b[0;32m      2\u001b[0m \u001b[0momega\u001b[0m \u001b[1;33m=\u001b[0m \u001b[1;36m2\u001b[0m\u001b[1;33m*\u001b[0m\u001b[0mmath\u001b[0m\u001b[1;33m.\u001b[0m\u001b[0mpi\u001b[0m\u001b[1;33m*\u001b[0m\u001b[0mf\u001b[0m\u001b[1;33m\u001b[0m\u001b[1;33m\u001b[0m\u001b[0m\n\u001b[0;32m      3\u001b[0m \u001b[0mri\u001b[0m \u001b[1;33m=\u001b[0m \u001b[0mrint\u001b[0m \u001b[1;33m+\u001b[0m \u001b[1;36m10\u001b[0m\u001b[1;33m**\u001b[0m\u001b[1;33m(\u001b[0m\u001b[1;33m-\u001b[0m\u001b[1;36m6\u001b[0m\u001b[1;33m)\u001b[0m\u001b[1;33m\u001b[0m\u001b[1;33m\u001b[0m\u001b[0m\n\u001b[1;32m----> 4\u001b[1;33m \u001b[0meta\u001b[0m \u001b[1;33m=\u001b[0m \u001b[0mnp\u001b[0m\u001b[1;33m.\u001b[0m\u001b[0msqrt\u001b[0m\u001b[1;33m(\u001b[0m\u001b[0mgama_S\u001b[0m\u001b[1;33m**\u001b[0m\u001b[1;36m2\u001b[0m \u001b[1;33m-\u001b[0m \u001b[0mgama_ar\u001b[0m\u001b[1;33m**\u001b[0m\u001b[1;36m2\u001b[0m\u001b[1;33m)\u001b[0m\u001b[1;33m\u001b[0m\u001b[1;33m\u001b[0m\u001b[0m\n\u001b[0m\u001b[0;32m      5\u001b[0m \u001b[1;33m\u001b[0m\u001b[0m\n\u001b[0;32m      6\u001b[0m \u001b[1;33m\u001b[0m\u001b[0m\n",
      "\u001b[1;31mNameError\u001b[0m: name 'gama_S' is not defined"
     ]
    }
   ],
   "source": [
    "#----funcoes para os calculos-----\n",
    "omega = 2*math.pi*f\n",
    "ri = rint + 10**(-6)\n",
    "eta = np.sqrt(gama_S**2 - gama_ar**2)\n",
    "\n",
    "def S1(xc,npr,yc):\n",
    "    ncond=len(xc)\n",
    "    s1=np.eye(ncond)*1j\n",
    "    for i in range(ncond):\n",
    "        for j in range(ncond):\n",
    "            if(i != j):\n",
    "                s1[i,j] = 1 + 2/(eta*np.sqrt((xc[i] - xc[j])**2 + (yc[i]+yc[j])**2))\n",
    "            elif(i <= nc-npr):\n",
    "                s1[i,j] = log((1+ 2/(eta*np.sqrt(4*yc[i]**2 + rf**2))))\n",
    "            else:\n",
    "                s1[i,j] = log((1+ 2/(eta*np.sqrt(4*yc[i]**2 + rpr**2))))\n",
    "    return s1\n",
    "\n",
    "def Mpot(xc,yc,npr,rf,rpr):\n",
    "    ncond=len(xc)\n",
    "    pot=np.eye(ncond)*1j\n",
    "    for i in range(ncond):\n",
    "        for j in range(ncond): \n",
    "            if i!=j: #entre fases\n",
    "                num=(xc[i]-xc[j])**2+(yc[i]+yc[j])**2\n",
    "                den=(xc[i]-xc[j])**2+(yc[i]-yc[j])**2\n",
    "                pot[i,j] = 0.5*log(num/den);\n",
    "            elif i<= (ncond-npr): #condutor de fase\n",
    "                pot[i,j] = math.log((2*(yc[i])/rf))\n",
    "            else: #para-raio\n",
    "                pot[i,j] = log((2*(yc[i])/rpr))\n",
    "    return pot\n",
    "\n",
    "def zexternal(omega,rho,npr,xc,yc,rf,rpr):\n",
    "        p = math.sqrt(rho/(1j*omega*mu))\n",
    "        ncond= len(xc)\n",
    "        zout=np.eye(ncond)*1j\n",
    "        for i in range(ncond):\n",
    "            for j in range(ncond): \n",
    "                if i!=j: #entre fases\n",
    "                    num = (xc[i]-xc[j]**2)+(2*p+yc[i]+yc[j]**2)\n",
    "                    den = (xc[i]-xc[j]**2)+(yc[i]-yc[j]**2)\n",
    "                    zout[i,j] = 1j*omega*mu_0/(4*pi)*log(num/den)\n",
    "                elif i<= (ncond-npr):\n",
    "                    zout[i,j]= 1j*omega*mu_0/(2*pi)*log((2*(yc[i]+p))/rf)\n",
    "                else:\n",
    "                    zout[i,j]= 1j*omega*mu_0/(2*pi)*log((2*(yc[i]+p))/rpr)\n",
    "        return zout\n",
    "       \n",
    "def Zint(omega,rhoc,rf):\n",
    "    etac = np.sqrt(1j*omega*mu_0/rhoc)\n",
    "\n",
    "    zin = rhoc*etac/(2*math.pi*rf)*besseli(0,etac*rf)/besseli(1,etac*rf)\n",
    "    return zint\n",
    "\n",
    "def Zinttub(omega,rhoc,rf,ri ):\n",
    "    etac = np.sqrt(1j*omega*mu_0/rhoc);\n",
    "\n",
    "    num =  besseli(0,etac*rf)*besselk(1,etac*ri) + besselk(0,etac*rf)*besseli(1,etac*ri) \n",
    "\n",
    "\n",
    "    den =  besseli(1, etac*rf)*besselk(1,etac*ri) - besseli(1,etac*ri)*besselk(1,etac*rf)\n",
    "\n",
    "    zin = rhoc*etac/(2*math.pi*rf)*num/den\n",
    "    return zin\n",
    "\n",
    "def Zin(xc,npr,rhoc,rf,ri):\n",
    "    ncond= len(xc);\n",
    "    zin=np.eye(ncond)*1j\n",
    "\n",
    "    for i in range(ncond):\n",
    "        for j in range(ncond): \n",
    "            if i!=j: #entre fases\n",
    "                zin[i,j]=0\n",
    "            elif i<= (ncond-npr):\n",
    "                zin[i,j]=Zinttub(omega,rhoc,rf,ri)\n",
    "            else:\n",
    "                zin[i,j]=Zint(omega,rhoc,rf,mur)\n",
    "    return zin\n",
    "\n",
    "\n",
    "\n"
   ]
  },
  {
   "cell_type": "code",
   "execution_count": 203,
   "metadata": {},
   "outputs": [
    {
     "data": {
      "text/plain": [
       "array([[0.00093285+0.00963162j, 0.0465354 +0.04834504j,\n",
       "        0.04514898+0.04751954j, 0.03583388+0.03746131j],\n",
       "       [0.0465354 +0.04834504j, 0.00093218+0.00963231j,\n",
       "        0.04181688+0.04370622j, 0.03431185+0.03608273j],\n",
       "       [0.04514898+0.04751954j, 0.04181688+0.04370622j,\n",
       "        0.0009315 +0.009633j  , 0.03291343+0.03484296j],\n",
       "       [0.03583388+0.03746131j, 0.03431185+0.03608273j,\n",
       "        0.03291343+0.03484296j, 0.00092844+0.00963613j]])"
      ]
     },
     "execution_count": 203,
     "metadata": {},
     "output_type": "execute_result"
    }
   ],
   "source": [
    "z1"
   ]
  },
  {
   "cell_type": "code",
   "execution_count": 201,
   "metadata": {
    "scrolled": true
   },
   "outputs": [],
   "source": [
    "#-------calculo dos parametros-----\n",
    "\n",
    "\n",
    "\n",
    "z1 = Zin(xc,npr,rhoc,rf,ri) + (((1j*omega*mu_0)/2*math.pi) * (Mpot(xc,yc,npr,rf,rpr) + S1(xc,npr,yc)))\n",
    "\n",
    "\n",
    "y1 =  1j*omega*2*math.pi*epsilon_0*(Mpot(xc,yc,npr,rf,rpr)**-1) \n",
    "\n",
    "y2 =  3*10**(-11)*eye(ncond)\n"
   ]
  },
  {
   "cell_type": "code",
   "execution_count": null,
   "metadata": {},
   "outputs": [],
   "source": [
    "#matrizes de sequencia\n",
    "a = complex(-0.5,0.866025)\n",
    "a2 = a**2\n",
    "A = Matrix([[1, 1, 1], [1, a2, a], [1, a, a2]])\n",
    "Zabc = z1*eye(3)\n",
    "Yabc = y1*eye(3)\n",
    "z012 = A**(-1)*Zabc*A\n",
    "y012 = A**(-1)*Yabc*A"
   ]
  },
  {
   "cell_type": "code",
   "execution_count": 20,
   "metadata": {},
   "outputs": [
    {
     "data": {
      "text/plain": [
       "array([[1., 0., 0., 0.],\n",
       "       [0., 2., 0., 0.],\n",
       "       [0., 0., 1., 0.],\n",
       "       [0., 0., 0., 1.]])"
      ]
     },
     "execution_count": 20,
     "metadata": {},
     "output_type": "execute_result"
    }
   ],
   "source": [
    "pot=np.eye(ncond)\n",
    "pot[1,1]=2\n",
    "pot"
   ]
  },
  {
   "cell_type": "markdown",
   "metadata": {},
   "source": [
    "<h1> 2 exercicio <h1/>"
   ]
  },
  {
   "cell_type": "code",
   "execution_count": 21,
   "metadata": {},
   "outputs": [
    {
     "data": {
      "text/latex": [
       "$\\displaystyle \\left[\\begin{matrix}\\frac{Y_{6} Z_{6}}{2} + 1 & Z_{6}\\\\Y_{6} \\left(\\frac{Y_{6} Z_{6}}{4} + 1\\right) & \\frac{Y_{6} Z_{6}}{2} + 1\\end{matrix}\\right]$"
      ],
      "text/plain": [
       "Matrix([\n",
       "[     Y6*Z6/2 + 1,          Z6],\n",
       "[Y6*(Y6*Z6/4 + 1), Y6*Z6/2 + 1]])"
      ]
     },
     "execution_count": 21,
     "metadata": {},
     "output_type": "execute_result"
    }
   ],
   "source": [
    "from sympy import besseli, besselk, Matrix\n",
    "import sympy as sym\n",
    "import numpy as np\n",
    "#transposicao de fases\n",
    "Z6, Y6, Z3, Y3 = sym.symbols('Z6, Y6, Z3, Y3')\n",
    "\n",
    "R = np.matrix([[0., 1., 0.],[0., 0., 1.],[1., 0., 0.]])\n",
    "O = np.zeros((3, 3))\n",
    "F = Matrix([[R, O], [O, R]])\n",
    "\n",
    "Q1 = Matrix([[1+ (Z6*Y6)/2 , Z6],[Y6*(1 + (Z6*Y6)/4),(1+ (Z6*Y6)/2)]])\n",
    "Q2 = Matrix([[1+ (Z3*Y3)/2 , Z3],[Y3*(1 + (Z3*Y3)/4),(1+ (Z3*Y3)/2)]])\n",
    "\n",
    "LT = Q1*F*Q2*F*Q2*F*Q1\n",
    "\n",
    "Q1"
   ]
  },
  {
   "cell_type": "markdown",
   "metadata": {},
   "source": [
    "<h1> 3 exercicio <h1/>"
   ]
  },
  {
   "cell_type": "code",
   "execution_count": 33,
   "metadata": {},
   "outputs": [
    {
     "ename": "ValueError",
     "evalue": "shapes (3,3) and (1,0) not aligned: 3 (dim 1) != 1 (dim 0)",
     "output_type": "error",
     "traceback": [
      "\u001b[1;31m---------------------------------------------------------------------------\u001b[0m",
      "\u001b[1;31mValueError\u001b[0m                                Traceback (most recent call last)",
      "\u001b[1;32m<ipython-input-33-cf91a8f33f24>\u001b[0m in \u001b[0;36m<module>\u001b[1;34m\u001b[0m\n\u001b[0;32m     35\u001b[0m \u001b[0mZm\u001b[0m \u001b[1;33m=\u001b[0m \u001b[1;33m[\u001b[0m\u001b[1;33m]\u001b[0m\u001b[1;33m\u001b[0m\u001b[1;33m\u001b[0m\u001b[0m\n\u001b[0;32m     36\u001b[0m \u001b[1;33m\u001b[0m\u001b[0m\n\u001b[1;32m---> 37\u001b[1;33m \u001b[0mYMab0\u001b[0m \u001b[1;33m=\u001b[0m \u001b[0mTcl\u001b[0m\u001b[1;33m*\u001b[0m\u001b[0mYm\u001b[0m\u001b[1;33m*\u001b[0m\u001b[1;33m(\u001b[0m\u001b[0mTcl\u001b[0m\u001b[1;33m**\u001b[0m\u001b[1;33m-\u001b[0m\u001b[1;36m1\u001b[0m\u001b[1;33m)\u001b[0m\u001b[1;33m\u001b[0m\u001b[1;33m\u001b[0m\u001b[0m\n\u001b[0m\u001b[0;32m     38\u001b[0m \u001b[0mZMab0\u001b[0m \u001b[1;33m=\u001b[0m \u001b[0mTcl\u001b[0m\u001b[1;33m*\u001b[0m\u001b[0mYm\u001b[0m\u001b[1;33m*\u001b[0m\u001b[1;33m(\u001b[0m\u001b[0mTcl\u001b[0m\u001b[1;33m**\u001b[0m\u001b[1;33m-\u001b[0m\u001b[1;36m1\u001b[0m\u001b[1;33m)\u001b[0m\u001b[1;33m\u001b[0m\u001b[1;33m\u001b[0m\u001b[0m\n\u001b[0;32m     39\u001b[0m \u001b[1;33m\u001b[0m\u001b[0m\n",
      "\u001b[1;32m~\\anaconda3\\lib\\site-packages\\numpy\\matrixlib\\defmatrix.py\u001b[0m in \u001b[0;36m__mul__\u001b[1;34m(self, other)\u001b[0m\n\u001b[0;32m    218\u001b[0m         \u001b[1;32mif\u001b[0m \u001b[0misinstance\u001b[0m\u001b[1;33m(\u001b[0m\u001b[0mother\u001b[0m\u001b[1;33m,\u001b[0m \u001b[1;33m(\u001b[0m\u001b[0mN\u001b[0m\u001b[1;33m.\u001b[0m\u001b[0mndarray\u001b[0m\u001b[1;33m,\u001b[0m \u001b[0mlist\u001b[0m\u001b[1;33m,\u001b[0m \u001b[0mtuple\u001b[0m\u001b[1;33m)\u001b[0m\u001b[1;33m)\u001b[0m \u001b[1;33m:\u001b[0m\u001b[1;33m\u001b[0m\u001b[1;33m\u001b[0m\u001b[0m\n\u001b[0;32m    219\u001b[0m             \u001b[1;31m# This promotes 1-D vectors to row vectors\u001b[0m\u001b[1;33m\u001b[0m\u001b[1;33m\u001b[0m\u001b[1;33m\u001b[0m\u001b[0m\n\u001b[1;32m--> 220\u001b[1;33m             \u001b[1;32mreturn\u001b[0m \u001b[0mN\u001b[0m\u001b[1;33m.\u001b[0m\u001b[0mdot\u001b[0m\u001b[1;33m(\u001b[0m\u001b[0mself\u001b[0m\u001b[1;33m,\u001b[0m \u001b[0masmatrix\u001b[0m\u001b[1;33m(\u001b[0m\u001b[0mother\u001b[0m\u001b[1;33m)\u001b[0m\u001b[1;33m)\u001b[0m\u001b[1;33m\u001b[0m\u001b[1;33m\u001b[0m\u001b[0m\n\u001b[0m\u001b[0;32m    221\u001b[0m         \u001b[1;32mif\u001b[0m \u001b[0misscalar\u001b[0m\u001b[1;33m(\u001b[0m\u001b[0mother\u001b[0m\u001b[1;33m)\u001b[0m \u001b[1;32mor\u001b[0m \u001b[1;32mnot\u001b[0m \u001b[0mhasattr\u001b[0m\u001b[1;33m(\u001b[0m\u001b[0mother\u001b[0m\u001b[1;33m,\u001b[0m \u001b[1;34m'__rmul__'\u001b[0m\u001b[1;33m)\u001b[0m \u001b[1;33m:\u001b[0m\u001b[1;33m\u001b[0m\u001b[1;33m\u001b[0m\u001b[0m\n\u001b[0;32m    222\u001b[0m             \u001b[1;32mreturn\u001b[0m \u001b[0mN\u001b[0m\u001b[1;33m.\u001b[0m\u001b[0mdot\u001b[0m\u001b[1;33m(\u001b[0m\u001b[0mself\u001b[0m\u001b[1;33m,\u001b[0m \u001b[0mother\u001b[0m\u001b[1;33m)\u001b[0m\u001b[1;33m\u001b[0m\u001b[1;33m\u001b[0m\u001b[0m\n",
      "\u001b[1;32m<__array_function__ internals>\u001b[0m in \u001b[0;36mdot\u001b[1;34m(*args, **kwargs)\u001b[0m\n",
      "\u001b[1;31mValueError\u001b[0m: shapes (3,3) and (1,0) not aligned: 3 (dim 1) != 1 (dim 0)"
     ]
    }
   ],
   "source": [
    "import cmath\n",
    "import numpy\n",
    "import math\n",
    "from cmath import phase \n",
    "import sympy as sym\n",
    "from numpy import exp, abs, angle, conjugate\n",
    "import numpy as np\n",
    "from scipy.constants import mu_0, epsilon_0\n",
    "from scipy.special import k1,k0,i1,i0\n",
    "from sympy import besseli, besselk, Matrix\n",
    "\n",
    "#caso 1 \n",
    "P1 = 60*10**6\n",
    "\n",
    "P2 = 80*10**6\n",
    "\n",
    "#circuito 3/8 EHS (C.G.)\n",
    "rpr = 4.57*10**(-3)\n",
    "Rdcpr = 4.19*10**(-3)\n",
    "resist_pr = Rdcpr*math.pi*(rpr**2)\n",
    "\n",
    "#circuito (Dove)\n",
    "rint = 6,988 * 10**(-3)\n",
    "rext = 11.773* 10**(-3)\n",
    "resist = 29.567*10**(-9)\n",
    "\n",
    "xc = np.matrix('-3.4; 3.4; -3.4; 3.4; 3.4; 3.4; 0') \n",
    "yc = np.matrix('12.3333; 16.3333; 20.3333; 12.3333; 16.3333; 20.3333; 30.7667') \n",
    "\n",
    "Tcl = np.matrix([[-1/np.sqrt(6), 2/np.sqrt(6), -1/np.sqrt(6)],[1/np.sqrt(2), 0., -1./np.sqrt(2)],[1./np.sqrt(3), 1/np.sqrt(3), 1/np.sqrt(3)]])\n",
    "Tcl**-1\n",
    "\n",
    "\n",
    "Ym = []\n",
    "Zm = []\n",
    "\n",
    "YMab0 = Tcl*Ym*(Tcl**-1)\n",
    "ZMab0 = Tcl*Ym*(Tcl**-1)\n",
    "\n",
    "Ymd = np.matrix([[YMab0, 0],[0, YMab0]])\n",
    "Zmd = np.matrix([[ZMab0, 0],[0, ZMab0]])"
   ]
  }
 ],
 "metadata": {
  "kernelspec": {
   "display_name": "Python 3",
   "language": "python",
   "name": "python3"
  },
  "language_info": {
   "codemirror_mode": {
    "name": "ipython",
    "version": 3
   },
   "file_extension": ".py",
   "mimetype": "text/x-python",
   "name": "python",
   "nbconvert_exporter": "python",
   "pygments_lexer": "ipython3",
   "version": "3.7.6"
  }
 },
 "nbformat": 4,
 "nbformat_minor": 4
}
