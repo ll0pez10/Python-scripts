{
 "cells": [
  {
   "cell_type": "code",
   "execution_count": 181,
   "metadata": {},
   "outputs": [],
   "source": [
    "import numpy as np\n",
    "import math"
   ]
  },
  {
   "cell_type": "markdown",
   "metadata": {},
   "source": [
    "Gerador e transformador\n",
    "Base de potencia = 100 MVA"
   ]
  },
  {
   "cell_type": "code",
   "execution_count": 145,
   "metadata": {},
   "outputs": [],
   "source": [
    "Sb=100000000.0\n",
    "\n",
    "#Gerador\n",
    "Vg= 138000.0 #V phase-phase\n",
    "Sg=250000000.0 #VA\n",
    "Xg=0.08 #% na base de 250 MVA\n",
    "#Em pu\n",
    "Xg_pu=Xg*Sg/Sb\n",
    "Sg_pu=Sg/Sb\n",
    "\n",
    "#Transformador\n",
    "St=300000000.0 #VA\n",
    "Xt=0.1 #% na base de 100 MVA\n",
    "#Em PU\n",
    "St_pu=St/Sb"
   ]
  },
  {
   "cell_type": "markdown",
   "metadata": {},
   "source": [
    "Linha de transmissão"
   ]
  },
  {
   "cell_type": "code",
   "execution_count": 149,
   "metadata": {},
   "outputs": [],
   "source": [
    "l=120 #distancia em km\n",
    "z1=(0.353803 + 0.524941j)*l\n",
    "y1 = (complex(3*10**-8,3.13194*(10**-6)))*l\n",
    "\n",
    "#Em pu\n",
    "zb=Vg**2/Sb\n",
    "yb=1/zb\n",
    "z1_pu=z1/zb\n",
    "y1_pu=y1/yb"
   ]
  },
  {
   "cell_type": "markdown",
   "metadata": {},
   "source": [
    "Carga"
   ]
  },
  {
   "cell_type": "code",
   "execution_count": 221,
   "metadata": {},
   "outputs": [],
   "source": [
    "Fp= [-0.92,0.92] #negativo = indutivo ;positivo = capacitivo\n",
    "Pc=40000000\n",
    "Vc= [.95,1.05]\n"
   ]
  },
  {
   "cell_type": "markdown",
   "metadata": {},
   "source": [
    "Matrizes e calculo"
   ]
  },
  {
   "cell_type": "code",
   "execution_count": 235,
   "metadata": {},
   "outputs": [],
   "source": [
    "def calcular(V_pu,P,fp_pu): \n",
    "    S=Pc*math.cos(fp_pu)\n",
    "    S_pu= S/Sb\n",
    "    I_pu=complex(S_pu/V_pu*math.cos(fp_pu),S_pu/V_pu*math.sin(fp_pu))\n",
    "\n",
    "    \n",
    "    Carg = np.array([[V_pu],[I_pu]])\n",
    "    \n",
    "    Impedancia_Gera = np.array([[1,Xg_pu],\n",
    "                       [0,1]])\n",
    "    \n",
    "    Impedancia_Transfo = np.array([[1,Xt],\n",
    "                       [0,1]])\n",
    "    \n",
    "    Impedancia_Linha =   np.array([[1+(z1_pu*y1)/2     ,z1_pu],\n",
    "                               [y1_pu*(1+(z1_pu*y1_pu)/4),1+(z1_pu*y1_pu)/2]])\n",
    "    \n",
    "    Impedancia_Total = Impedancia_Gera @ Impedancia_Transfo @ Impedancia_Linha\n",
    "    \n",
    "    Font = Impedancia_Total@Carg\n",
    "    print(\"V em pu valor absoluto na fonte:\")\n",
    "    print(abs(Font[0]))\n",
    "    print(\"A em pu valor absoluto na fonte:\")\n",
    "    print(abs(Font[1]))"
   ]
  },
  {
   "cell_type": "code",
   "execution_count": 236,
   "metadata": {},
   "outputs": [
    {
     "name": "stdout",
     "output_type": "stream",
     "text": [
      "Utilizadno o valor de V na carga = 0.95 e fator de potencia = -0.92\n",
      "V em pu valor absoluto na fonte:\n",
      "[1.09845503]\n",
      "A em pu valor absoluto na fonte:\n",
      "[0.20319668]\n",
      "\n",
      "Utilizadno o valor de V na carga = 0.95 e fator de potencia = 0.92\n",
      "V em pu valor absoluto na fonte:\n",
      "[0.97887436]\n",
      "A em pu valor absoluto na fonte:\n",
      "[0.30905536]\n",
      "\n",
      "Utilizadno o valor de V na carga = 1.05 e fator de potencia = -0.92\n",
      "V em pu valor absoluto na fonte:\n",
      "[1.1841547]\n",
      "A em pu valor absoluto na fonte:\n",
      "[0.17542308]\n",
      "\n",
      "Utilizadno o valor de V na carga = 1.05 e fator de potencia = 0.92\n",
      "V em pu valor absoluto na fonte:\n",
      "[1.07415732]\n",
      "A em pu valor absoluto na fonte:\n",
      "[0.29154687]\n",
      "\n"
     ]
    }
   ],
   "source": [
    "for i in Vc:\n",
    "    for j in Fp:\n",
    "        print(\"Utilizadno o valor de V na carga = \"+str(i)+\" e fator de potencia = \"+str(j))\n",
    "        calcular(i,Pc,j)\n",
    "        print(\"\")"
   ]
  },
  {
   "cell_type": "markdown",
   "metadata": {},
   "source": [
    "# Questao 2"
   ]
  },
  {
   "cell_type": "code",
   "execution_count": 240,
   "metadata": {},
   "outputs": [
    {
     "data": {
      "text/plain": [
       "array([ 1.05      +0.j        , -0.52099836-0.91162531j,\n",
       "       -0.52099836+0.91162531j])"
      ]
     },
     "execution_count": 240,
     "metadata": {},
     "output_type": "execute_result"
    }
   ],
   "source": [
    "Vc= [.95,1.05]\n",
    "Vc=np.array([Vc[1],complex(Vc[1]*math.cos(-2.09),Vc[1]*math.sin(-2.09)),complex(Vc[1]*math.cos(2.09),Vc[1]*math.sin(2.09))])\n",
    "Vc"
   ]
  },
  {
   "cell_type": "code",
   "execution_count": 241,
   "metadata": {},
   "outputs": [
    {
     "data": {
      "text/plain": [
       "array([ 0.4       +0.j        , -0.19847557-0.34728583j,\n",
       "       -0.19847557+0.34728583j])"
      ]
     },
     "execution_count": 241,
     "metadata": {},
     "output_type": "execute_result"
    }
   ],
   "source": [
    "Ic=0.4\n",
    "Ic=np.array([Ic,complex(Ic*math.cos(-2.09),Ic*math.sin(-2.09)),complex(Ic*math.cos(2.09),Ic*math.sin(2.09))])\n",
    "Ic"
   ]
  },
  {
   "cell_type": "code",
   "execution_count": 253,
   "metadata": {},
   "outputs": [],
   "source": [
    "Z=np.array([[0.412396 + 0.98981j, 0.0585923 + 0.464869j, 0.0585923 + 0.464869j],\n",
    "[0.0585923 + 0.464869j, 0.412396 + 0.98981j, 0.0585923 + 0.464869j],\n",
    "[0.0585923 + 0.464869j, 0.0585923 + 0.464869j, 0.412396 + 0.98981j]])*l\n",
    "\n",
    "Y=np.array([[3*10**-8 + 1j*2.70829*10**-6, 1j*-4.2365*10**-7 ,1j*-4.2365*10**7],\n",
    "[1j*-4.2365*10**-7, 3*10**-8 + 1j*2.70829*10**-7, 1j*-4.2365*10**7],\n",
    "[1j*-4.2365*10**-7, 1j*-4.2365*10**-7, 3*10**-7 + 1j*2.70829*10**6] ])*l"
   ]
  },
  {
   "cell_type": "code",
   "execution_count": 267,
   "metadata": {},
   "outputs": [],
   "source": [
    "R=np.array([[0, 1, 0],\n",
    "           [0, 0, 1],\n",
    "           [1, 0, 0]])\n",
    "#1/6\n",
    "z1=(Z/6)[0][0]-(Z/6)[1][0]\n",
    "y1=(Y/6)[0][0]-(Y/6)[1][0]\n",
    "#1/3\n",
    "z2=((Z/3)@R)[0][0]-((Z/3)@R)[1][0]\n",
    "y2=((Y/3)@R)[0][0]-((Y/3)@R)[1][0]\n",
    "#1/3\n",
    "z3=((Z/3)@R@R)[0][0]-((Z/3)@R@R)[1][0]\n",
    "y3=((Y/3)@R@R)[0][0]-((Y/3)@R@R)[1][0]\n",
    "#1/6\n",
    "z4=((Z/6)@R@R@R)[0][0]-((Z/6)@R@R@R)[1][0]\n",
    "y4=((Y/6)@R@R@R)[0][0]-((Y/6)@R@R@R)[1][0]"
   ]
  },
  {
   "cell_type": "code",
   "execution_count": 274,
   "metadata": {},
   "outputs": [
    {
     "data": {
      "text/plain": [
       "array([[49.48752 +118.7772j ,  7.031076 +55.78428j,  7.031076 +55.78428j],\n",
       "       [ 7.031076 +55.78428j, 49.48752 +118.7772j ,  7.031076 +55.78428j],\n",
       "       [ 7.031076 +55.78428j,  7.031076 +55.78428j, 49.48752 +118.7772j ]])"
      ]
     },
     "execution_count": 274,
     "metadata": {},
     "output_type": "execute_result"
    }
   ],
   "source": [
    "Z"
   ]
  },
  {
   "cell_type": "code",
   "execution_count": 269,
   "metadata": {},
   "outputs": [
    {
     "data": {
      "text/plain": [
       "(7.076073999999998+10.49882j)"
      ]
     },
     "execution_count": 269,
     "metadata": {},
     "output_type": "execute_result"
    }
   ],
   "source": []
  },
  {
   "cell_type": "code",
   "execution_count": 271,
   "metadata": {},
   "outputs": [
    {
     "data": {
      "text/plain": [
       "(-14.152147999999997-20.99764j)"
      ]
     },
     "execution_count": 271,
     "metadata": {},
     "output_type": "execute_result"
    }
   ],
   "source": []
  },
  {
   "cell_type": "code",
   "execution_count": 272,
   "metadata": {},
   "outputs": [
    {
     "data": {
      "text/plain": [
       "(7.076073999999998+10.49882j)"
      ]
     },
     "execution_count": 272,
     "metadata": {},
     "output_type": "execute_result"
    }
   ],
   "source": []
  }
 ],
 "metadata": {
  "kernelspec": {
   "display_name": "Python 3",
   "language": "python",
   "name": "python3"
  },
  "language_info": {
   "codemirror_mode": {
    "name": "ipython",
    "version": 3
   },
   "file_extension": ".py",
   "mimetype": "text/x-python",
   "name": "python",
   "nbconvert_exporter": "python",
   "pygments_lexer": "ipython3",
   "version": "3.7.6"
  }
 },
 "nbformat": 4,
 "nbformat_minor": 2
}
