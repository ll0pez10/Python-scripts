{
 "cells": [
  {
   "cell_type": "code",
   "execution_count": 116,
   "metadata": {},
   "outputs": [],
   "source": [
    "\n",
    "\n",
    "CondutoresEspecificações = {\"Bluejay\":(8.702*10**-3,15.977*10**-3,29.544*10**-9), \n",
    "                             \"Rail\":(8.702*10**-3,14.796*10**-3,29.538*10**-9),\n",
    "                             \"Ruddy\":(7.821*10**-3,14.364*10**-3,29.559*10**-9),\n",
    "                             \"Grossbeak\":(7.456*10**-3,12.573*10**-3,29.538*10**-9),\n",
    "                             \"Dove\":(6.988*10**-3,11.773*10**-3,29.567*10**-9),\n",
    "                             \"Penguim\":(4.123*10**-3,7.150*10**-3,28.554*10**-9),\n",
    "                             \"Leghorn\":(4.840*10**-3,6.7180*10**-3,29.586*10**-9),\n",
    "                             \"Minorca\":(4.390*10**-3,6.0960*10**-3,29.579*10**-9),\n",
    "                             \"3/8 EHS\":(0,4.570*10**-3,276.470*10**-9)}\n",
    "\n",
    "#Name: (db,(Xc-1,Xc0,Xc1),(Yc-1,Yc,Yc+1),(Xpr,Ypr,Xpr2,Ypr2),n)\n",
    "#n é o numero de condutores por fase\n",
    "#db é o (diametro ou raio?) do circulo que forma os condutores\n",
    "#Xc cordenadas dos centros dos 4 condutores\n",
    "#Yc cordenadas dos centros dos 4 condutores PS: na formula nao sei se divide ou multiplica por fc (flecha)\n",
    "CondutoresPosição = {\"Bluejay\":(.475,(-15.85,0,15.85),(35.9-2*20.9/3,35.9-2*20.9/3,35.9-2*20.9/3),(-14.45,45.9-2*14.7/3,14.45,45.9-2*14.7/3),4), \n",
    "                    \"Rail Convencional\":(,3),\n",
    "                    \"Rail Compacto\":(0.008,(-4.275,0,4.275),(),(-3.5,26,3.5,26),4),#Nao entendi o db nesse modo\n",
    "                    \"Rail Normal\":(.475,(-15,-11,-6,6,11,15),(23.2,33.2,23.2,23.2,33.2,23.2),(-8.8,42.7,8.8,42.7),4),\n",
    "                    \"Ruddy\":(0.458,(7,0,-7),(10.5,10.5,10.5),(-5,20.5,5,20.5),2)\n",
    "                    }\n",
    "\n",
    "\"rail recapacitado\"\""
   ]
  },
  {
   "cell_type": "code",
   "execution_count": 110,
   "metadata": {},
   "outputs": [
    {
     "data": {
      "text/plain": [
       "(-15.85, 0, 15.85)"
      ]
     },
     "execution_count": 110,
     "metadata": {},
     "output_type": "execute_result"
    }
   ],
   "source": [
    "CondutoresPosição[\"Bluejay\"][1]"
   ]
  },
  {
   "cell_type": "raw",
   "metadata": {},
   "source": [
    "A orientação escolhida para os fechos foi:\n",
    "\n",
    "(1)o----(2)o\n",
    "   |    |\n",
    "   |    |\n",
    "   |    |\n",
    "(3)o----(4)o"
   ]
  },
  {
   "cell_type": "code",
   "execution_count": 102,
   "metadata": {},
   "outputs": [],
   "source": [
    "#Tem que por um for no para termos as info em todos os condutores. A principio funciona bem com circuito simples\n",
    "#Preparar um if para saber se é circuito simples ou duplo e diversificar o tratamento. Ex: len(Xc)=2 Simples, len(Xc)=5 Duplo\n",
    "from cmath import *\n",
    "if (len(CondutoresPosição[\"Bluejay\"][1])==2) #Circuito Simples\n",
    "    Xc1=CondutoresPosição[\"Bluejay\"][1][0]\n",
    "    Xc2=CondutoresPosição[\"Bluejay\"][1][1]\n",
    "    Xc3=CondutoresPosição[\"Bluejay\"][1][2]\n",
    "    Yc1=CondutoresPosição[\"Bluejay\"][2][0]\n",
    "    Yc2=CondutoresPosição[\"Bluejay\"][2][1]\n",
    "    Yc3=CondutoresPosição[\"Bluejay\"][2][2]\n",
    "\n",
    "    db=CondutoresPosição[\"Bluejay\"][0]\n",
    "    \n",
    "    #importante determinar quantos condutores temos pois a aplicação da formula da geometria e a matriz de posicao x e y vao mudar\n",
    "    #Talvez valha a pena fazer algo com cos como o prof fez mas nao entendi mt bem\n",
    "    \n",
    "    if (CondutoresPosição[\"Bluejay\"][4]==4) #Quatro condutores por fase\n",
    "    \n",
    "        #a formula a seguir foi imaginando um triangulo retangulo onde a hipotenusa vale db/2 e os catetos sao iguais a x.\n",
    "        Xe1=Xc1-db/sqrt(8) #X a esquerda do primeiro condutor, dps os outros serao so somar a diferença entre os centros\n",
    "        Xd1=Xc1+db/sqrt(8) #X a direita\n",
    "\n",
    "        Ya1 = Yc1+db/sqrt(8) #Y alto\n",
    "        Yb1 = Yc1-db/sqrt(8) #Y baixo\n",
    "\n",
    "\n",
    "        posx = ((Xe1,Xd1,Xe1,Xd1),\n",
    "                (Xe1+(Xc2-Xc1),Xd1+(Xc2-Xc1),Xe1+(Xc2-Xc1),Xd1+(Xc2-Xc1)),\n",
    "                (Xe1+(Xc3-Xc1),Xd1+(Xc3-Xc1),Xe1+(Xc3-Xc1),Xd1+(Xc3-Xc1))    )\n",
    "\n",
    "\n",
    "        posy = ((Ya1,Ya1,Yb1,Yb1),\n",
    "                (Ya1,Ya1,Yb1,Yb1),\n",
    "                (Ya1,Ya1,Yb1,Yb1))\n",
    "        \n",
    "    elif (CondutoresPosição[\"Bluejay\"][4]==2) #Dois condutores por fase\n",
    "        Xe1=Xc1-db\n",
    "        Xd1=Xc1+db\n",
    "        Ya1=Yc1\n",
    "        Yb1=Yc1\n",
    "        \n",
    "        posx = ((Xe1,Xd1),\n",
    "                (Xe1+(Xc2-Xc1),Xd1+(Xc2-Xc1)),\n",
    "                (Xe1+(Xc2-Xc1),Xd1+(Xc2-Xc1)))\n",
    "        \n",
    "        posy = ((Ya1,Yb1),\n",
    "                (Ya1,Yb1),\n",
    "                (Ya1,Yb1))\n",
    "        \n",
    "    elif (CondutoresPosição[\"Bluejay\"][4]==3 #Tres condutores por fase\n",
    "    \n",
    "    \n",
    "elif(len(CondutoresPosição[\"Bluejay\"][1])==5) #Circuito Duplo\n"
   ]
  },
  {
   "cell_type": "code",
   "execution_count": 103,
   "metadata": {},
   "outputs": [
    {
     "data": {
      "image/png": "[encoded data removed]",
      "text/plain": [
       "<Figure size 432x288 with 1 Axes>"
      ]
     },
     "metadata": {
      "needs_background": "light"
     },
     "output_type": "display_data"
    }
   ],
   "source": [
    "import matplotlib.pyplot as plt\n",
    "for i in range(len(posx)):\n",
    "    for j in range(len(posx[1])):\n",
    "        plt.plot(posx[i][j],posy[i][j],\"ro\") #plot condutores em vermelho\n",
    "        \n",
    "for k in range(0,int(len(CondutoresPosição[\"Bluejay\"][3])),2):\n",
    "    plt.plot(CondutoresPosição[\"Bluejay\"][3][k],CondutoresPosição[\"Bluejay\"][3][k+1],\"bo\") #plot pararaio em azul\n"
   ]
  },
  {
   "cell_type": "code",
   "execution_count": 1,
   "metadata": {},
   "outputs": [
    {
     "ename": "SyntaxError",
     "evalue": "'return' outside function (<ipython-input-1-94614ba87c75>, line 84)",
     "output_type": "error",
     "traceback": [
      "\u001b[1;36m  File \u001b[1;32m\"<ipython-input-1-94614ba87c75>\"\u001b[1;36m, line \u001b[1;32m84\u001b[0m\n\u001b[1;33m    return zint\u001b[0m\n\u001b[1;37m    ^\u001b[0m\n\u001b[1;31mSyntaxError\u001b[0m\u001b[1;31m:\u001b[0m 'return' outside function\n"
     ]
    }
   ],
   "source": [
    "from numpy import exp, abs, angle, conj, sqrt\n",
    "import numpy as np\n",
    "from scipy.constants import mu_0, epsilon_0\n",
    "from scipy.special import k1, k0, i1, i0\n",
    "from mpmath import *\n",
    "mp.dps = 25\n",
    "mp.pretty = True\n",
    "\n",
    "\n",
    "class Linha_transmissao:\n",
    "    def __init__(self, epsilon_r, sigma_s, r_int, r_ext, nfase, npr, xc, yc, rhoc, rhoc_pr, rf, rpr):\n",
    "        self.f = 60\n",
    "        self.omega = 2*pi*self.f\n",
    "        self.epsilon_r = epsilon_r\n",
    "        self.sigma_s = sigma_s\n",
    "        self.r_int = r_int\n",
    "        self.r_ext = r_ext\n",
    "        self.nfase = nfase\n",
    "        self.npr = npr\n",
    "        self.xc = xc\n",
    "        self.yc = yc\n",
    "        self.rhoc = rhoc\n",
    "        self.rhoc_pr = rhoc_pr\n",
    "        self.rf = rf\n",
    "        self.rpr = rpr\n",
    "\n",
    "    # Calcula a matriz de impedancia de retorno do solo\n",
    "    def S1(self, xc, npr, yc, rf, rpr):\n",
    "        ncond = len(self.xc)\n",
    "        s1 = np.eye(ncond)*1j\n",
    "        for i in range(ncond):\n",
    "            for j in range(ncond):\n",
    "                if(i != j):\n",
    "                    s1[i, j] = log(\n",
    "                        1 + (2/(eta * sqrt((self.xc[i] - self.xc[j])**2 + (self.yc[i]+self.yc[j])**2))))\n",
    "                elif (i+1) <= (ncond-self.npr):\n",
    "                    s1[i, j] = log(\n",
    "                        (1 + 2/(eta * sqrt(4*self.yc[i]**2 + self.rf**2))))\n",
    "                else:\n",
    "                    s1[i, j] = log(\n",
    "                        (1 + 2/(eta * sqrt(4*self.yc[i]**2 + self.rpr**2))))\n",
    "        return s1\n",
    "\n",
    "    def Mpot(self, xc, yc, npr, rf, rpr):\n",
    "        # Calcula a matriz dos potenciais\n",
    "        ncond = len(self.xc)\n",
    "        pot = np.eye(ncond)*1j\n",
    "        for i in range(ncond):\n",
    "            for j in range(ncond):\n",
    "                if i != j:  # entre fases\n",
    "                    num = (self.xc[i]-self.xc[j])**2+(self.yc[i]+self.yc[j])**2\n",
    "                    den = (self.xc[i]-self.xc[j])**2+(self.yc[i]-self.yc[j])**2\n",
    "                    pot[i, j] = 0.5*log(num/den)\n",
    "                elif (i+1) <= (ncond-self.npr):  # condutor de fase\n",
    "                    pot[i, j] = log((2*(self.yc[i])/self.rf))\n",
    "                else:  # para-raio\n",
    "                    pot[i, j] = log((2*(self.yc[i])/self.rpr))\n",
    "        return pot\n",
    "\n",
    "    def zexternal(self, rho, npr, xc, yc, rf, rpr):\n",
    "        p = sqrt(self.rho/(1j*self.omega*mu_0))\n",
    "        ncond = len(self.xc)\n",
    "        zout = np.eye(ncond)*1j\n",
    "        for i in range(ncond):\n",
    "            for j in range(ncond):\n",
    "                if i != j:  # entre fases\n",
    "                    num = (self.xc[i]-self.xc[j]**2) + \\\n",
    "                        (2*p+self.yc[i]+self.yc[j]**2)\n",
    "                    den = (self.xc[i]-self.xc[j]**2)+(self.yc[i]-self.yc[j]**2)\n",
    "                    zout[i, j] = 1j*self.omega*mu_0/(4*pi)*log(num/den)\n",
    "                elif (i+1) <= (ncond-self.npr):\n",
    "                    zout[i, j] = 1j*self.omega*mu_0 / \\\n",
    "                        (2*pi)*log((2*(self.yc[i]+p))/self.rf)\n",
    "                else:\n",
    "                    zout[i, j] = 1j*self.omega*mu_0 / \\\n",
    "                        (2*pi)*log((2*(self.yc[i]+p))/self.rpr)\n",
    "        return zout\n",
    "\n",
    "    def Zint(self, omega, rhoc, rf):\n",
    "        # Calcula a impedancia interna de um condutor cilindrico\n",
    "        etac = sqrt((1j*self.omega*mu_0)/self.rhoc)\n",
    "        zint = rhoc*(etac/(2*pi*self.rf)) * \\\n",
    "            (i0(etac*self.rf)/i1(etac*self.rf))\n",
    "    return zint\n",
    "\n",
    "    def Zinttub(self, omega, rhoc, rf, ri):\n",
    "        # Calcula a impedancia interna de um condutor tubular\n",
    "        etac = sqrt((1j*omega*mu_0)/self.rhoc)\n",
    "        num = i0(etac*self.rf)*k1(etac*self.ri) + \\\n",
    "            k0(etac*self.rf)*i1(etac*self.ri)\n",
    "        den = i1(etac*self.rf)*k1(etac*self.ri) - \\\n",
    "            i1(etac*self.ri)*k1(etac*self.rf)\n",
    "        zin = self.rhoc*(etac/(2*pi*self.rf))*(num/den)\n",
    "    return zint\n",
    "\n",
    "    def Zin(self, xc, npr, rhoc, rhoc_pr, rf, ri):\n",
    "        ncond = len(self.xc)\n",
    "        zin = np.eye(ncond)*1j\n",
    "        rpr = 0  # qual a variavel?\n",
    "\n",
    "        for i in range(ncond):\n",
    "            for j in range(ncond):\n",
    "                if i != j:  # entre fases\n",
    "                    zin[i, j] = 0\n",
    "                elif (i+1) <= (ncond-self.npr):  # cabos de fase\n",
    "                    zin[i, j] = self.Zinttub(\n",
    "                        self, omega, self.rhoc, self.rf, self.ri)\n",
    "                else:  # pararaio\n",
    "                    zin[i, j] = self.Zint(self.omega, self.rhoc_pr, self.rpr)\n",
    "        return zin\n",
    "\n",
    "    def impedancia(self):\n",
    "        Z = self.Zin(self.xc, self.npr, self.rhoc, self.rhoc_pr, self.rf, self.ri) + (((1j*omega*mu_0)/2/pi)\n",
    "                                                                                      * (self.Mpot(self.xc, self.yc, self.npr, self.rf, self.rpr) + self.S1(self.xc, self.npr, self.yc, self.rf, self.rpr)))\n",
    "        return Z\n"
   ]
  },
  {
   "cell_type": "code",
   "execution_count": null,
   "metadata": {},
   "outputs": [],
   "source": []
  },
  {
   "cell_type": "code",
   "execution_count": null,
   "metadata": {},
   "outputs": [],
   "source": []
  },
  {
   "cell_type": "code",
   "execution_count": null,
   "metadata": {},
   "outputs": [],
   "source": []
  }
 ],
 "metadata": {
  "kernelspec": {
   "display_name": "Python 3",
   "language": "python",
   "name": "python3"
  },
  "language_info": {
   "codemirror_mode": {
    "name": "ipython",
    "version": 3
   },
   "file_extension": ".py",
   "mimetype": "text/x-python",
   "name": "python",
   "nbconvert_exporter": "python",
   "pygments_lexer": "ipython3",
   "version": "3.7.6"
  }
 },
 "nbformat": 4,
 "nbformat_minor": 4
}
