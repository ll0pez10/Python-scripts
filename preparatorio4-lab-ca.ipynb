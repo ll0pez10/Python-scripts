{
 "cells": [
  {
   "cell_type": "code",
   "execution_count": 1,
   "metadata": {},
   "outputs": [
    {
     "name": "stdout",
     "output_type": "stream",
     "text": [
      " corrente A:(1.4992195952600942-0.3545056864617787j) \n",
      " \n",
      " corrente B:(-0.4425988673681053+1.4756150985775554j) \n",
      " \n",
      " corrente C:(-1.0566207278919884-1.1211094121157767j) \n",
      "\n",
      "A potencia total é : (427.20006177820403+402.6265727086534j) \n",
      "\n",
      "O fator de potencia desse circuito é: 0.7277271833895274\n"
     ]
    }
   ],
   "source": [
    "import cmath\n",
    "import numpy\n",
    "import math\n",
    "from cmath import phase \n",
    "import sympy as sym\n",
    "from numpy import exp, abs, angle\n",
    "import numpy as np\n",
    "\n",
    "def paraleloImpedancia(list, num_imp):\n",
    "    Zp = 0\n",
    "    for i in range(num_imp):\n",
    "        Zp = Zp + (1/list[i])\n",
    "    return (1/Zp)\n",
    "\n",
    "impedancias = []\n",
    "\n",
    "Z=complex(60,2*math.pi*60*0.15)\n",
    "\n",
    "impedancias.append(Z)\n",
    "impedancias.append(Z)\n",
    "impedancias.append(Z)\n",
    "\n",
    "#tensoes de linha\n",
    "Vl1 = complex(220,0)\n",
    "Vl2 = complex(-110,190.5256)\n",
    "Vl3 = complex(-110,-190.5256)\n",
    "\n",
    "#tensoes de fase\n",
    "Vf1 = cmath.rect(220/np.sqrt(3),(math.pi)/6)\n",
    "Vf2 = cmath.rect(220/np.sqrt(3), ((2*math.pi)/3)+((math.pi)/6))\n",
    "Vf3 = cmath.rect(220/np.sqrt(3), ((-2*math.pi)/3)+((math.pi)/6))\n",
    "\n",
    "#correntes nas fases\n",
    "IA = Vf1/Z\n",
    "IB = Vf2/Z\n",
    "IC = Vf3/Z\n",
    "print(\" corrente A:{} \\n \\n corrente B:{} \\n \\n corrente C:{} \\n\" . format(IA, IB, IC))\n",
    "\n",
    "#potencia em cada ramo\n",
    "S1 = Vf1*np.conj(IA)\n",
    "S2 = Vf2*np.conj(IB)\n",
    "S3 = Vf3*np.conj(IC)\n",
    "#potencia ativa e reativa total\n",
    "St = S1 + S2 + S3\n",
    "print(\"A potencia total é : {} \\n\" .format(St))\n",
    "#fator de potencia\n",
    "fp = St.real/abs(St)\n",
    "print(\"O fator de potencia desse circuito é: {}\" . format(fp))"
   ]
  }
 ],
 "metadata": {
  "kernelspec": {
   "display_name": "Python 3",
   "language": "python",
   "name": "python3"
  },
  "language_info": {
   "codemirror_mode": {
    "name": "ipython",
    "version": 3
   },
   "file_extension": ".py",
   "mimetype": "text/x-python",
   "name": "python",
   "nbconvert_exporter": "python",
   "pygments_lexer": "ipython3",
   "version": "3.7.6"
  }
 },
 "nbformat": 4,
 "nbformat_minor": 4
}
