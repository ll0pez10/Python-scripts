{
 "cells": [
  {
   "cell_type": "markdown",
   "metadata": {
    "id": "5jsBTq0YyXW6"
   },
   "source": [
    "<h1> 1 exercicio <h1/>"
   ]
  },
  {
   "cell_type": "code",
   "execution_count": null,
   "metadata": {
    "id": "9guFi4W4yXW7"
   },
   "outputs": [],
   "source": [
    "import cmath\n",
    "import numpy\n",
    "import math\n",
    "from cmath import phase \n",
    "import sympy as sym\n",
    "from numpy import exp, abs, angle, conjugate\n",
    "import numpy as np\n",
    "from scipy.constants import mu_0, epsilon_0\n",
    "from scipy.special import k1,k0,i1,i0\n",
    "from mpmath import *\n",
    "mp.dps = 25; mp.pretty = True\n",
    "\n",
    "#faz o print das matrizes ficar bonitinho\n",
    "np.set_printoptions(linewidth=500)\n",
    "\n",
    "#potencia base do sistema\n",
    "Sb=100*10**6\n",
    "\n",
    "#impedancia base\n",
    "Zb = ((138*10**3)**2)/(100*10**6)\n",
    "\n",
    "#dados gerador\n",
    "Sg = 250*10**6\n",
    "Xg = 8/100\n",
    "\n",
    "#dados transformador\n",
    "St = 250*10**6\n",
    "Z = 0.1\n",
    "Xt=10/100\n",
    "\n",
    "#dados circuito\n",
    "l = 120*10**3\n",
    "V = 138*10**3\n",
    "\n",
    "#dados carga\n",
    "Pc = 40*10**6\n",
    "#cenario 1 (noite) e cenario 2 (dia)\n",
    "Fp = ((-1)*0.92, 0.92)\n",
    "#tensao na carga\n",
    "Vc=(0.95,1.05)\n",
    "\n",
    "#configuração da rede\n",
    "Rdcf = 0.17*10**(-3)\n",
    "Rdcpr = 0.17*10**(-3)\n",
    "rf = 18.29/(2*10**(-3))\n",
    "rpr = 4.57*10**(-3)\n",
    "xc = (-3.8, 3.8, -3.8, 0)\n",
    "yc = (15.033, 16.933, 18.833, 27.467)\n",
    "fl = (9.25, 9.25, 9.25 , 4.7)\n",
    "L=120 #km\n",
    "\n",
    "#altura media\n",
    "ycm = []\n",
    "for i in range(len(yc)):\n",
    "    ycm.append(yc[i] - (2/3)*fl[i])\n",
    "\n",
    "ncond = len(xc)\n",
    "nfases = 3\n",
    "npr =1 \n",
    "nc = ncond\n",
    "\n",
    "#Circuito 138 kV (penguin)\n",
    "rf = 7.1501*10**(-3)\n",
    "rint = 2.3876*10**(-3)\n",
    "Rdc = 35.356020838304296*10**(-5)\n",
    "rhoc = Rdc* math.pi*(rf**2 - rint**2)\n",
    "\n",
    "#circuito 3/8 EHS (C.G.)\n",
    "rpr = 4.57*10**(-3)\n",
    "Rdcpr = 4.19*10**(-3)\n",
    "rhoc_pr = Rdcpr*math.pi*(rpr**2)\n",
    "\n",
    "\n",
    "#dados adicionais\n",
    "epsilon_r = 10\n",
    "sigma_s = 1*10**(-3)\n",
    "\n",
    "#frquencia\n",
    "f = 60"
   ]
  },
  {
   "cell_type": "code",
   "execution_count": null,
   "metadata": {
    "id": "dl2geITPyXW_"
   },
   "outputs": [],
   "source": [
    "#----funcoes para os calculos-----\n",
    "omega = 2*math.pi*f\n",
    "ri = rint + 10**(-6)\n",
    "gama_S = np.sqrt(1j*omega*mu_0*(sigma_s + 1j*omega*epsilon_r*epsilon_0))\n",
    "gama_ar = 1j*omega*np.sqrt(mu_0*epsilon_0)\n",
    "eta = np.sqrt(gama_S**2 - gama_ar**2)\n",
    "\n",
    "\n",
    "def S1(xc,npr,yc,rf,rpr):\n",
    "    ncond=len(xc)\n",
    "    s1=np.eye(ncond)*1j\n",
    "    for i in range(ncond):\n",
    "        for j in range(ncond):\n",
    "            if(i != j):\n",
    "                s1[i,j] = log(1 + (2/(eta*np.sqrt((xc[i] - xc[j])**2 + (yc[i]+yc[j])**2))))\n",
    "            elif (i+1) <= nc-npr:\n",
    "                s1[i,j] = log((1+ 2/(eta*np.sqrt(4*yc[i]**2 + rf**2))))\n",
    "            else:\n",
    "                s1[i,j] = log((1+ 2/(eta*np.sqrt(4*yc[i]**2 + rpr**2))))\n",
    "    return s1\n",
    "\n",
    "def Mpot(xc,yc,npr,rf,rpr):\n",
    "    ncond=len(xc)\n",
    "    pot=np.eye(ncond)*1j\n",
    "    for i in range(ncond):\n",
    "        for j in range(ncond): \n",
    "            if i!=j: #entre fases\n",
    "                num=(xc[i]-xc[j])**2+(yc[i]+yc[j])**2\n",
    "                den=(xc[i]-xc[j])**2+(yc[i]-yc[j])**2\n",
    "                pot[i,j] = 0.5*log(num/den);\n",
    "            elif (i+1)<= (ncond-npr): #condutor de fase\n",
    "                pot[i,j] = math.log((2*(yc[i])/rf))\n",
    "            else: #para-raio\n",
    "                pot[i,j] = log((2*(yc[i])/rpr))\n",
    "    return pot\n",
    "\n",
    "def zexternal(omega,rho,npr,xc,yc,rf,rpr):\n",
    "        p = math.sqrt(rho/(1j*omega*mu))\n",
    "        ncond= len(xc)\n",
    "        zout=np.eye(ncond)*1j\n",
    "        for i in range(ncond):\n",
    "            for j in range(ncond): \n",
    "                if i!=j: #entre fases\n",
    "                    num = (xc[i]-xc[j]**2)+(2*p+yc[i]+yc[j]**2)\n",
    "                    den = (xc[i]-xc[j]**2)+(yc[i]-yc[j]**2)\n",
    "                    zout[i,j] = 1j*omega*mu_0/(4*pi)*log(num/den)\n",
    "                elif (i+1)<= (ncond-npr):\n",
    "                    zout[i,j]= 1j*omega*mu_0/(2*pi)*log((2*(yc[i]+p))/rf)\n",
    "                else:\n",
    "                    zout[i,j]= 1j*omega*mu_0/(2*pi)*log((2*(yc[i]+p))/rpr)\n",
    "        return zout\n",
    "       \n",
    "def Zint(omega,rhoc,rf):\n",
    "    etac = np.sqrt(1j*omega*mu_0/rhoc)\n",
    "\n",
    "    zint = rhoc*etac/(2*math.pi*rf)*besseli(0,etac*rf)/besseli(1,etac*rf)\n",
    "    return zint\n",
    "\n",
    "def Zinttub(omega,rhoc,rf,ri ):\n",
    "    etac = np.sqrt(1j*omega*mu_0/rhoc);\n",
    "\n",
    "    num =  besseli(0,etac*rf)*besselk(1,etac*ri) + besselk(0,etac*rf)*besseli(1,etac*ri) \n",
    "\n",
    "\n",
    "    den =  besseli(1, etac*rf)*besselk(1,etac*ri) - besseli(1,etac*ri)*besselk(1,etac*rf)\n",
    "\n",
    "    zin = rhoc*etac/(2*math.pi*rf)*num/den\n",
    "    return zin\n",
    "\n",
    "def Zin(xc,npr,rhoc,rhoc_pr,rf,ri):\n",
    "    ncond= len(xc);\n",
    "    zin=np.eye(ncond)*1j\n",
    "\n",
    "    for i in range(ncond):\n",
    "        for j in range(ncond): \n",
    "            if i!=j: #entre fases\n",
    "                zin[i,j]=0\n",
    "            elif (i+1)<= (ncond-npr):\n",
    "                zin[i,j]=Zinttub(omega,rhoc,rf,ri)\n",
    "            else:\n",
    "                zin[i,j]=Zint(omega,rhoc_pr,rpr)\n",
    "    return zin"
   ]
  },
  {
   "cell_type": "code",
   "execution_count": null,
   "metadata": {
    "id": "aWcxDu7uyXXC"
   },
   "outputs": [],
   "source": [
    "#-------calculo dos parametros-----\n",
    "\n",
    "z1 = Zin(xc,npr,rhoc,rhoc_pr,rf,ri) + (((1j*omega*mu_0)/2/math.pi) * (Mpot(xc,yc,npr,rf,rpr) + S1(xc,npr,yc,rf,rpr)))\n",
    "\n",
    "y1 =  1j*omega*2*math.pi*epsilon_0*(np.linalg.inv(Mpot(xc,yc,npr,rf,rpr))) + 3.0*10**(-11)*np.eye(ncond)\n",
    "\n"
   ]
  },
  {
   "cell_type": "markdown",
   "metadata": {
    "id": "fCwrtMp6O969"
   },
   "source": [
    "<h1> Matriz de impedância (longitudinal) por unidade de comprimento em Ohm/km<h1/>\n",
    "\n"
   ]
  },
  {
   "cell_type": "code",
   "execution_count": null,
   "metadata": {
    "colab": {
     "base_uri": "https://localhost:8080/",
     "height": 85
    },
    "id": "GO8oTOmiyXXE",
    "outputId": "6dada55e-392b-4691-adc3-ae75d1294994",
    "scrolled": true
   },
   "outputs": [
    {
     "name": "stdout",
     "output_type": "stream",
     "text": [
      "[[ 412464.35718767 +989740.3262756j    58620.68639375 +446657.89695471j   58602.47197073 +501223.96713588j   58443.92315262 +408639.65420869j]\n",
      " [  58620.68639375 +446657.89695471j  412395.71034691 +989810.03945319j   58553.79969187 +446725.91156382j   58409.92360109 +419931.75895404j]\n",
      " [  58602.47197073 +501223.96713588j   58553.79969187 +446725.91156382j  412327.19032754 +989879.75043199j   58375.94476192 +432899.96829897j]\n",
      " [  58443.92315262 +408639.65420869j   58409.92360109 +419931.75895404j   58375.94476192 +432899.96829897j 4248252.43959586+1027380.50775642j]]\n"
     ]
    }
   ],
   "source": [
    "z1=z1*1000\n",
    "print(z1)"
   ]
  },
  {
   "cell_type": "markdown",
   "metadata": {
    "id": "HCGZNZ0KPdqC"
   },
   "source": [
    "<h1> Matriz de admitância (longitudinal) por unidade de comprimento em Ohm/km<h1/>\n",
    "\n"
   ]
  },
  {
   "cell_type": "code",
   "execution_count": null,
   "metadata": {
    "colab": {
     "base_uri": "https://localhost:8080/",
     "height": 85
    },
    "id": "y-i-nJjSKrnn",
    "outputId": "ff7fc832-870f-440a-ff22-fc2cba6d61a9"
   },
   "outputs": [
    {
     "name": "stdout",
     "output_type": "stream",
     "text": [
      "[[3.e-05+0.00275694j 0.e+00-0.00032396j 0.e+00-0.00060869j 0.e+00-0.00019784j]\n",
      " [0.e+00-0.00032396j 3.e-05+0.00264198j 0.e+00-0.00033833j 0.e+00-0.00029001j]\n",
      " [0.e+00-0.00060869j 0.e+00-0.00033833j 3.e-05+0.00272612j 0.e+00-0.00033589j]\n",
      " [0.e+00-0.00019784j 0.e+00-0.00029001j 0.e+00-0.00033589j 3.e-05+0.00235717j]]\n"
     ]
    }
   ],
   "source": [
    "y1=y1*1000\n",
    "print(y1)"
   ]
  },
  {
   "cell_type": "markdown",
   "metadata": {
    "id": "2T33cSniTMTa"
   },
   "source": [
    "<h1> Matriz de sequencia<h1/>\n",
    "\n"
   ]
  },
  {
   "cell_type": "code",
   "execution_count": null,
   "metadata": {
    "id": "ePvEP0SeyXXI"
   },
   "outputs": [],
   "source": [
    "#Retiramos as info do pararaio das matrizes\n",
    "Zabc=z1[0:3,0:3]\n",
    "Yabc=y1[0:3,0:3]\n",
    "\n",
    "#matrizes de sequencia\n",
    "a = complex(-0.5,0.866025)\n",
    "a2 = a**2\n",
    "A = np.array([[1, 1, 1], [1, a2, a], [1, a, a2]])\n",
    "z012 = np.linalg.inv(A)@Zabc@A\n",
    "y012 = np.linalg.inv(A)@Yabc@A"
   ]
  },
  {
   "cell_type": "code",
   "execution_count": null,
   "metadata": {
    "colab": {
     "base_uri": "https://localhost:8080/",
     "height": 68
    },
    "id": "PJaATYa5WITk",
    "outputId": "830387d4-aeb7-4586-adeb-874b6bb078e1"
   },
   "outputs": [
    {
     "name": "stdout",
     "output_type": "stream",
     "text": [
      "[[ 0.52958039+1.91954855j -0.01571837+0.0090121j   0.01582558+0.00906219j]\n",
      " [ 0.01582556+0.00906185j  0.35380344+0.52494077j  0.0314794 -0.01818747j]\n",
      " [-0.01571844+0.00901179j -0.03148783-0.01816894j  0.35380342+0.52494079j]]\n"
     ]
    }
   ],
   "source": [
    "print(z012)"
   ]
  },
  {
   "cell_type": "code",
   "execution_count": null,
   "metadata": {
    "colab": {
     "base_uri": "https://localhost:8080/",
     "height": 68
    },
    "id": "iZpZOlmjXoQ0",
    "outputId": "738bdb9e-8fde-4d21-fafd-1536f04139b7"
   },
   "outputs": [
    {
     "name": "stdout",
     "output_type": "stream",
     "text": [
      "[[ 3.00000000e-08+1.86102944e-06j  5.79068286e-08-1.83661813e-08j -5.79068286e-08-1.83662281e-08j]\n",
      " [-5.79069266e-08-1.83658680e-08j  2.99999425e-08+3.13200450e-06j -1.88676395e-07+1.09622299e-07j]\n",
      " [ 5.79069266e-08-1.83659148e-08j  1.88676395e-07+1.09622299e-07j  3.00000575e-08+3.13200435e-06j]]\n"
     ]
    }
   ],
   "source": [
    "print(y012)"
   ]
  },
  {
   "cell_type": "code",
   "execution_count": null,
   "metadata": {
    "colab": {
     "base_uri": "https://localhost:8080/",
     "height": 34
    },
    "id": "h3vhTGB6Xp0P",
    "outputId": "65754e4f-20c9-43e7-e0fa-61df0ec811ef"
   },
   "outputs": [
    {
     "data": {
      "text/plain": [
       "(0.0006855826863124067+0.07157507249136225j)"
      ]
     },
     "execution_count": 38,
     "metadata": {
      "tags": []
     },
     "output_type": "execute_result"
    }
   ],
   "source": [
    "#os parametros unitarios de sequencia+ entao sao:\n",
    "z=z012[1][1]\n",
    "y=y012[1][1]\n",
    "#em pu:\n",
    "z_pu=(z/Zb)*L\n",
    "y_pu=(y*Zb)*L #Yb=1/Zb"
   ]
  },
  {
   "cell_type": "code",
   "execution_count": null,
   "metadata": {
    "id": "QEb_Y6F9XziJ"
   },
   "outputs": [],
   "source": [
    "#Funcao que recebe a tensao em pu, a potencia ativa e o fator de potencia e nos\n",
    "#retorna o valor abs da tensao e da corrente na fonte\n",
    "def calcular(V_pu,P,fp_pu): \n",
    "    S=P*fp_pu\n",
    "    S_pu= abs(S/Sb)\n",
    "    if fp_pu>0: # Indutivo\n",
    "      angulo=-acos(abs(fp_pu))\n",
    "    else: #Capacitivo\n",
    "      angulo=acos(abs(fp_pu))\n",
    "\n",
    "    I_pu=complex(S_pu/V_pu*cos(angulo),S_pu/V_pu*sin(angulo))\n",
    "    print(I_pu)\n",
    "    \n",
    "    Carg = np.array([[V_pu],[I_pu]])\n",
    "    \n",
    "    Impedancia_Gera = np.array([[1,Xg],\n",
    "                                [0,1]])\n",
    "    \n",
    "    Impedancia_Transfo = np.array([[1,Xt],\n",
    "                                  [0,1]])\n",
    "    \n",
    "    Impedancia_Linha =   np.array([[1+(z_pu*y_pu)/2     ,z_pu],\n",
    "                               [y_pu*(1+(z_pu*y_pu)/4),1+(z_pu*y_pu)/2]])\n",
    "    \n",
    "    Impedancia_Total = Impedancia_Gera @ Impedancia_Transfo @ Impedancia_Linha\n",
    "    \n",
    "    print(Impedancia_Linha)\n",
    "    Font = Impedancia_Total@Carg\n",
    "    print(\"V em pu valor absoluto na fonte:\")\n",
    "    print(abs(Font[0]))\n",
    "    print(\"I em pu valor absoluto na fonte:\")\n",
    "    print(abs(Font[1]))"
   ]
  },
  {
   "cell_type": "code",
   "execution_count": null,
   "metadata": {
    "colab": {
     "base_uri": "https://localhost:8080/",
     "height": 34
    },
    "id": "M0-Uh469bsMm",
    "outputId": "be8ac783-8927-47b5-e843-0563f545fb88"
   },
   "outputs": [
    {
     "data": {
      "text/plain": [
       "0.3919183588453084018895085"
      ]
     },
     "execution_count": 30,
     "metadata": {
      "tags": []
     },
     "output_type": "execute_result"
    }
   ],
   "source": [
    "sin(acos(-0.92))"
   ]
  },
  {
   "cell_type": "code",
   "execution_count": null,
   "metadata": {
    "colab": {
     "base_uri": "https://localhost:8080/",
     "height": 634
    },
    "id": "we2UhxqBYVuC",
    "outputId": "6c81ae42-c393-4b1f-bcaf-07516ba8c0f6"
   },
   "outputs": [
    {
     "name": "stdout",
     "output_type": "stream",
     "text": [
      "Utilizando o valor de V na carga = 0.95 e fator de potencia = 0.92 Capacitivo\n",
      "(0.3563789473684211+0.15181679584744578j)\n",
      "[[9.99988239e-01+8.09180765e-06j 2.22938528e-04+3.30775532e-04j]\n",
      " [6.85289069e-04+7.15746544e-02j 9.99988239e-01+8.09180765e-06j]]\n",
      "V em pu valor absoluto na fonte:\n",
      "[1.01506014]\n",
      "I em pu valor absoluto na fonte:\n",
      "[0.41926679]\n",
      "\n",
      "Utilizando o valor de V na carga = 0.95 e fator de potencia = 0.92 Indutivo\n",
      "(0.3563789473684211-0.15181679584744578j)\n",
      "[[9.99988239e-01+8.09180765e-06j 2.22938528e-04+3.30775532e-04j]\n",
      " [6.85289069e-04+7.15746544e-02j 9.99988239e-01+8.09180765e-06j]]\n",
      "V em pu valor absoluto na fonte:\n",
      "[1.01449418]\n",
      "I em pu valor absoluto na fonte:\n",
      "[0.36673347]\n",
      "\n",
      "Utilizando o valor de V na carga = 1.05 e fator de potencia = 0.92 Capacitivo\n",
      "(0.32243809523809525+0.13735805338578427j)\n",
      "[[9.99988239e-01+8.09180765e-06j 2.22938528e-04+3.30775532e-04j]\n",
      " [6.85289069e-04+7.15746544e-02j 9.99988239e-01+8.09180765e-06j]]\n",
      "V em pu valor absoluto na fonte:\n",
      "[1.10884663]\n",
      "I em pu valor absoluto na fonte:\n",
      "[0.38676767]\n",
      "\n",
      "Utilizando o valor de V na carga = 1.05 e fator de potencia = 0.92 Indutivo\n",
      "(0.32243809523809525-0.13735805338578427j)\n",
      "[[9.99988239e-01+8.09180765e-06j 2.22938528e-04+3.30775532e-04j]\n",
      " [6.85289069e-04+7.15746544e-02j 9.99988239e-01+8.09180765e-06j]]\n",
      "V em pu valor absoluto na fonte:\n",
      "[1.10832856]\n",
      "I em pu valor absoluto na fonte:\n",
      "[0.32908666]\n",
      "\n"
     ]
    }
   ],
   "source": [
    "for i in Vc:\n",
    "    for j in Fp:\n",
    "        if j >0:\n",
    "          tex=\" Indutivo\"\n",
    "        else:\n",
    "          tex=\" Capacitivo\"\n",
    "        print(\"Utilizando o valor de V na carga = \"+str(i)+\" e fator de potencia = \"+str(abs(j))+tex)\n",
    "        calcular(i,Pc,j)\n",
    "        print(\"\")"
   ]
  },
  {
   "cell_type": "code",
   "execution_count": null,
   "metadata": {
    "id": "1FVhklglqNDS"
   },
   "outputs": [],
   "source": []
  },
  {
   "cell_type": "markdown",
   "metadata": {
    "id": "L2Os14styXXM"
   },
   "source": [
    "<h1> 2 exercicio <h1/>"
   ]
  },
  {
   "cell_type": "code",
   "execution_count": null,
   "metadata": {
    "id": "aH1mCJn03OmV"
   },
   "outputs": [],
   "source": [
    "import numpy as np\n",
    "S=Zabc@Yabc\n",
    "autovalor, autovetor = np.linalg.eig(S)\n",
    "h1=autovalor[0]\n",
    "h2=autovalor[1]\n",
    "h3=autovalor[2]\n",
    "\n",
    "def avalues(matrix,h):\n",
    "    a11=1\n",
    "    #ok\n",
    "    a12=matrix[0][1]/(matrix[0][0]-h)\n",
    "    #ok\n",
    "    a13=matrix[0][2]/(matrix[0][0]-h)\n",
    "    #ok\n",
    "    a21=0\n",
    "    #ok\n",
    "    a22 = (((-1*matrix[0][1]*matrix[1][0])/(matrix[0][0] - h)) +(matrix[1][1] - h))*(((-1*matrix[0][1]*matrix[2][0])/(matrix[0][0] - h))+matrix[2][1])\n",
    "    #ok\n",
    "    a23 = (((-1*matrix[0][2]*matrix[1][0])/(matrix[0][0] - h)) +matrix[1][2])*(((-1*matrix[0][1]*matrix[2][0])/(matrix[0][0] - h))+(matrix[1][1] - h))\n",
    "    a31=0\n",
    "    a32=0\n",
    "    #ok\n",
    "    a33 = (((-1*matrix[0][2]*matrix[1][0])/(matrix[0][0] - h)) + matrix[1][2] )*(((-1*matrix[0][1]*matrix[2][0])/(matrix[0][0] - h))+matrix[2][1]) + (((-1*matrix[0][2]*matrix[2][0])/(matrix[0][0] - h)) +(matrix[2][2] - h))*(((-1*matrix[0][1]*matrix[1][0])/(matrix[0][0] - h))+ (matrix[1][1] - h))\n",
    "\n",
    "    p = 1/np.sqrt(1 + (a23**2)/(a22**2) + (((a12**2)*(a23**2)-2*a12*a13*a22*a23+(a12**2)*(a13**2))/((a11**2)*(a22**2))))\n",
    "\n",
    "    Tv1 = ((-1)*((a12*a23)/a22)*p)/a11 + (a13*p)/a11\n",
    "    Tv2 = (a23/a22)*p\n",
    "    Tv3 = -p\n",
    "    return (Tv1,Tv2,Tv3)\n",
    "    \n",
    "TV=np.array([[avalues(S,h1)[0],avalues(S,h2)[0],avalues(S,h3)[0]],[avalues(S,h1)[1],avalues(S,h2)[1],avalues(S,h3)[1]],[avalues(S,h1)[2],avalues(S,h2)[2],avalues(S,h3)[2]]])\n",
    "T_gama=np.linalg.inv(TV)\n",
    "T_gamaT=np.transpose(T_gama)"
   ]
  },
  {
   "cell_type": "code",
   "execution_count": null,
   "metadata": {
    "colab": {
     "base_uri": "https://localhost:8080/",
     "height": 120
    },
    "id": "k8pSzXIt4Dxj",
    "outputId": "1acd1753-7d72-4e3f-f381-ce35967978c7"
   },
   "outputs": [
    {
     "data": {
      "text/plain": [
       "array([[ 1.01446943e+33-3.13681614e+33j,  4.62688564e+36+3.03140656e+37j,\n",
       "        -2.15486216e+35-2.83204939e+35j],\n",
       "       [ 4.62688564e+36+3.03140656e+37j, -1.58443343e+41-2.32262208e+41j,\n",
       "         2.84818348e+39+1.43514512e+39j],\n",
       "       [-2.15486216e+35-2.83204939e+35j,  2.84818348e+39+1.43514512e+39j,\n",
       "        -3.57982020e+37+2.83481527e+36j]])"
      ]
     },
     "execution_count": 20,
     "metadata": {
      "tags": []
     },
     "output_type": "execute_result"
    }
   ],
   "source": [
    "Zm=T_gama@Zabc@T_gamaT\n",
    "Ym=T_gama@Yabc@TV\n",
    "Zm\n"
   ]
  },
  {
   "cell_type": "code",
   "execution_count": null,
   "metadata": {
    "colab": {
     "base_uri": "https://localhost:8080/",
     "height": 117
    },
    "id": "Wrx8V1R1yXXN",
    "outputId": "cf53ac96-7294-4338-da80-25ea3d5d9aef"
   },
   "outputs": [
    {
     "data": {
      "text/plain": [
       "array([[0., 1., 0., 0., 0., 0.],\n",
       "       [0., 0., 1., 0., 0., 0.],\n",
       "       [1., 0., 0., 0., 0., 0.],\n",
       "       [0., 0., 0., 0., 1., 0.],\n",
       "       [0., 0., 0., 0., 0., 1.],\n",
       "       [0., 0., 0., 1., 0., 0.]])"
      ]
     },
     "execution_count": 171,
     "metadata": {
      "tags": []
     },
     "output_type": "execute_result"
    }
   ],
   "source": [
    "from sympy import besseli, besselk, Matrix\n",
    "import sympy as sym\n",
    "import numpy as np\n",
    "#transposicao de fases\n",
    "Z6, Y6, Z3, Y3 = sym.symbols('Z6, Y6, Z3, Y3')\n",
    "\n",
    "R = np.array([[0., 1., 0.],[0., 0., 1.],[1., 0., 0.]])\n",
    "O = np.zeros((3, 3))\n",
    "F1 = np.concatenate((R,O), axis=1)\n",
    "F2 = np.concatenate((O,R), axis=1)\n",
    "F = np.concatenate((F1,F2), axis=0)\n",
    "\n",
    "\n",
    "Q1 = Matrix([[1+ (Z6*Y6)/2 , Z6],[Y6*(1 + (Z6*Y6)/4),(1+ (Z6*Y6)/2)]])\n",
    "Q2 = Matrix([[1+ (Z3*Y3)/2 , Z3],[Y3*(1 + (Z3*Y3)/4),(1+ (Z3*Y3)/2)]])\n",
    "\n",
    "#LT = Q1*F*Q2*F*Q2*F*Q1\n",
    "\n",
    "F"
   ]
  },
  {
   "cell_type": "code",
   "execution_count": null,
   "metadata": {
    "id": "3kV10DMJ1DdQ"
   },
   "outputs": [],
   "source": [
    "Ym11 = ((Tv11)**2)*y11 + ((Tv21)**2)*y22 + ((Tv31)**2)*y33 + 2*(Tv11*Tv21*y12) + 2*(Tv11*Tv31*y13) + 2*(Tv21*Tv31*y23)\n",
    "Zm11 = ((Tv11)**2)*y11 + ((Tv21)**2)*y22 + ((Tv31)**2)*y33 + 2*(Tv11*Tv21*y12) + 2*(Tv11*Tv31*y13) + 2*(Tv21*Tv31*y23)\n",
    "gama_m1 = np.sqrt(Zm1*Ym1)\n",
    "\n",
    "F1 = np.cosh(gama_m1*d) * eye(3)\n",
    "F2 = (Zcm1*(np.senh(gama_m1*d))) * eye(3)\n",
    "F3 = ((1/Zcm1)*(np.senh(gama_m1*d))) * eye(3)\n",
    "F4 = -1*F1"
   ]
  },
  {
   "cell_type": "markdown",
   "metadata": {
    "id": "eI0poyl0yXXS"
   },
   "source": [
    "<h1> 3 exercicio <h1/>"
   ]
  },
  {
   "cell_type": "code",
   "execution_count": null,
   "metadata": {
    "colab": {
     "base_uri": "https://localhost:8080/",
     "height": 379
    },
    "id": "q8-K_MLByXXS",
    "outputId": "98a34767-0238-407d-e2d8-2aa03a32ad0d"
   },
   "outputs": [
    {
     "ename": "ValueError",
     "evalue": "ignored",
     "output_type": "error",
     "traceback": [
      "\u001b[0;31m---------------------------------------------------------------------------\u001b[0m",
      "\u001b[0;31mValueError\u001b[0m                                Traceback (most recent call last)",
      "\u001b[0;32m<ipython-input-172-244df40cc216>\u001b[0m in \u001b[0;36m<module>\u001b[0;34m()\u001b[0m\n\u001b[1;32m     33\u001b[0m \u001b[0mZm\u001b[0m \u001b[0;34m=\u001b[0m \u001b[0;34m[\u001b[0m\u001b[0;34m]\u001b[0m\u001b[0;34m\u001b[0m\u001b[0;34m\u001b[0m\u001b[0m\n\u001b[1;32m     34\u001b[0m \u001b[0;34m\u001b[0m\u001b[0m\n\u001b[0;32m---> 35\u001b[0;31m \u001b[0mYMab0\u001b[0m \u001b[0;34m=\u001b[0m \u001b[0mTcl\u001b[0m\u001b[0;34m*\u001b[0m\u001b[0mYm\u001b[0m\u001b[0;34m*\u001b[0m\u001b[0;34m(\u001b[0m\u001b[0mTcl\u001b[0m\u001b[0;34m**\u001b[0m\u001b[0;34m-\u001b[0m\u001b[0;36m1\u001b[0m\u001b[0;34m)\u001b[0m\u001b[0;34m\u001b[0m\u001b[0;34m\u001b[0m\u001b[0m\n\u001b[0m\u001b[1;32m     36\u001b[0m \u001b[0mZMab0\u001b[0m \u001b[0;34m=\u001b[0m \u001b[0mTcl\u001b[0m\u001b[0;34m*\u001b[0m\u001b[0mYm\u001b[0m\u001b[0;34m*\u001b[0m\u001b[0;34m(\u001b[0m\u001b[0mTcl\u001b[0m\u001b[0;34m**\u001b[0m\u001b[0;34m-\u001b[0m\u001b[0;36m1\u001b[0m\u001b[0;34m)\u001b[0m\u001b[0;34m\u001b[0m\u001b[0;34m\u001b[0m\u001b[0m\n\u001b[1;32m     37\u001b[0m \u001b[0;34m\u001b[0m\u001b[0m\n",
      "\u001b[0;32m/usr/local/lib/python3.6/dist-packages/numpy/matrixlib/defmatrix.py\u001b[0m in \u001b[0;36m__mul__\u001b[0;34m(self, other)\u001b[0m\n\u001b[1;32m    218\u001b[0m         \u001b[0;32mif\u001b[0m \u001b[0misinstance\u001b[0m\u001b[0;34m(\u001b[0m\u001b[0mother\u001b[0m\u001b[0;34m,\u001b[0m \u001b[0;34m(\u001b[0m\u001b[0mN\u001b[0m\u001b[0;34m.\u001b[0m\u001b[0mndarray\u001b[0m\u001b[0;34m,\u001b[0m \u001b[0mlist\u001b[0m\u001b[0;34m,\u001b[0m \u001b[0mtuple\u001b[0m\u001b[0;34m)\u001b[0m\u001b[0;34m)\u001b[0m \u001b[0;34m:\u001b[0m\u001b[0;34m\u001b[0m\u001b[0;34m\u001b[0m\u001b[0m\n\u001b[1;32m    219\u001b[0m             \u001b[0;31m# This promotes 1-D vectors to row vectors\u001b[0m\u001b[0;34m\u001b[0m\u001b[0;34m\u001b[0m\u001b[0;34m\u001b[0m\u001b[0m\n\u001b[0;32m--> 220\u001b[0;31m             \u001b[0;32mreturn\u001b[0m \u001b[0mN\u001b[0m\u001b[0;34m.\u001b[0m\u001b[0mdot\u001b[0m\u001b[0;34m(\u001b[0m\u001b[0mself\u001b[0m\u001b[0;34m,\u001b[0m \u001b[0masmatrix\u001b[0m\u001b[0;34m(\u001b[0m\u001b[0mother\u001b[0m\u001b[0;34m)\u001b[0m\u001b[0;34m)\u001b[0m\u001b[0;34m\u001b[0m\u001b[0;34m\u001b[0m\u001b[0m\n\u001b[0m\u001b[1;32m    221\u001b[0m         \u001b[0;32mif\u001b[0m \u001b[0misscalar\u001b[0m\u001b[0;34m(\u001b[0m\u001b[0mother\u001b[0m\u001b[0;34m)\u001b[0m \u001b[0;32mor\u001b[0m \u001b[0;32mnot\u001b[0m \u001b[0mhasattr\u001b[0m\u001b[0;34m(\u001b[0m\u001b[0mother\u001b[0m\u001b[0;34m,\u001b[0m \u001b[0;34m'__rmul__'\u001b[0m\u001b[0;34m)\u001b[0m \u001b[0;34m:\u001b[0m\u001b[0;34m\u001b[0m\u001b[0;34m\u001b[0m\u001b[0m\n\u001b[1;32m    222\u001b[0m             \u001b[0;32mreturn\u001b[0m \u001b[0mN\u001b[0m\u001b[0;34m.\u001b[0m\u001b[0mdot\u001b[0m\u001b[0;34m(\u001b[0m\u001b[0mself\u001b[0m\u001b[0;34m,\u001b[0m \u001b[0mother\u001b[0m\u001b[0;34m)\u001b[0m\u001b[0;34m\u001b[0m\u001b[0;34m\u001b[0m\u001b[0m\n",
      "\u001b[0;32m<__array_function__ internals>\u001b[0m in \u001b[0;36mdot\u001b[0;34m(*args, **kwargs)\u001b[0m\n",
      "\u001b[0;31mValueError\u001b[0m: shapes (3,3) and (1,0) not aligned: 3 (dim 1) != 1 (dim 0)"
     ]
    }
   ],
   "source": [
    "import cmath\n",
    "import numpy\n",
    "import math\n",
    "from cmath import phase \n",
    "import sympy as sym\n",
    "from numpy import exp, abs, angle, conjugate\n",
    "import numpy as np\n",
    "from scipy.constants import mu_0, epsilon_0\n",
    "from scipy.special import k1,k0,i1,i0\n",
    "from sympy import besseli, besselk, Matrix\n",
    "\n",
    "#caso 1 \n",
    "P1 = 60*10**6\n",
    "\n",
    "P2 = 80*10**6\n",
    "\n",
    "#circuito 3/8 EHS (C.G.)\n",
    "rpr = 4.57*10**(-3)\n",
    "Rdcpr = 4.19*10**(-3)\n",
    "resist_pr = Rdcpr*math.pi*(rpr**2)\n",
    "\n",
    "#circuito (Dove)\n",
    "ri_Dove = 6,988 * 10**(-3)\n",
    "rf_Dove = 11.773* 10**(-3)\n",
    "rhoc_Dove = 29.567*10**(-9)\n",
    "\n",
    "\n",
    "Tcl = np.matrix([[-1/np.sqrt(6), 2/np.sqrt(6), -1/np.sqrt(6)],[1/np.sqrt(2), 0., -1./np.sqrt(2)],[1./np.sqrt(3), 1/np.sqrt(3), 1/np.sqrt(3)]])\n",
    "Tcl**-1\n",
    "\n",
    "\n",
    "Ym = []\n",
    "Zm = []\n",
    "\n",
    "YMab0 = Tcl*Ym*(Tcl**-1)\n",
    "ZMab0 = Tcl*Ym*(Tcl**-1)\n",
    "\n",
    "Ymd = np.matrix([[YMab0, 0],[0, YMab0]])\n",
    "Zmd = np.matrix([[ZMab0, 0],[0, ZMab0]])\n",
    "\n",
    "#-----Circuito Duplo------\n",
    "\n",
    "xc = (-3.4, 3.4, -3.4, 3.4, 3.4, 3.4, 0) \n",
    "yc = (12.3333, 16.3333, 20.3333, 12.3333, 16.3333, 20.3333, 30.7667) \n",
    "npr=1\n",
    "#Calculo dos parametros\n",
    "z1 = Zin(xc,npr,rhoc_Dove,rhoc_pr,rf_Dove,ri_Dove) + (((1j*omega*mu_0)/2/math.pi) * (Mpot(xc,yc,npr,rf_Dove,rpr) + S1(xc,npr,yc,rf_Dove,rpr)))\n",
    "\n",
    "elem1 = np.linalg.inv(A)@Zabc@A\n",
    "elem2 = np.linalg.inv(A)@(Zabc - Zabc_)@A\n",
    "elem3 = np.linalg.inv(A)@(Zabc_ - Zabc)@A\n",
    "elem4 = np.linalg.inv(A)@Zabc_@A\n",
    "np.matrix([[elem1, elem2],[elem3, elem4]])\n",
    "\n",
    "#-----Dois circuitos identicos------"
   ]
  },
  {
   "cell_type": "code",
   "execution_count": null,
   "metadata": {
    "id": "R89zwKvxZt5s"
   },
   "outputs": [],
   "source": []
  }
 ],
 "metadata": {
  "colab": {
   "collapsed_sections": [],
   "name": "LUAN (1).ipynb",
   "provenance": []
  },
  "kernelspec": {
   "display_name": "Python 3",
   "language": "python",
   "name": "python3"
  },
  "language_info": {
   "codemirror_mode": {
    "name": "ipython",
    "version": 3
   },
   "file_extension": ".py",
   "mimetype": "text/x-python",
   "name": "python",
   "nbconvert_exporter": "python",
   "pygments_lexer": "ipython3",
   "version": "3.7.6"
  }
 },
 "nbformat": 4,
 "nbformat_minor": 1
}
